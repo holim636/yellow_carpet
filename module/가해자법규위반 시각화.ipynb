{
 "cells": [
  {
   "cell_type": "code",
   "execution_count": 2,
   "id": "ccbafde7",
   "metadata": {},
   "outputs": [],
   "source": [
    "import numpy as np\n",
    "import pandas as pd\n",
    "import math\n",
    "from scipy.stats import *\n",
    "import scipy as sp\n",
    "import matplotlib.pyplot as plt\n",
    "\n",
    "# Jupyter Notebook의 출력을 소수점 이하 3자리로 제한\n",
    "%precision 3\n",
    "\n",
    "# Dataframe의 출력을 소수점 이하 3자리로 제한\n",
    "pd.set_option('precision', 3)\n",
    "\n",
    "# 여러 변수 출력 코드\n",
    "from IPython.core.interactiveshell import InteractiveShell\n",
    "InteractiveShell.ast_node_interactivity=\"all\""
   ]
  },
  {
   "cell_type": "code",
   "execution_count": 3,
   "id": "533aef03",
   "metadata": {},
   "outputs": [],
   "source": [
    "from matplotlib import font_manager, rc\n",
    "font_path = \"C:\\Windows\\Fonts\\malgun.ttf\"\n",
    "font = font_manager.FontProperties(fname=font_path).get_name()\n",
    "rc('font', family=font)"
   ]
  },
  {
   "cell_type": "code",
   "execution_count": 4,
   "id": "b97af6b5",
   "metadata": {},
   "outputs": [],
   "source": [
    "data1 = pd.read_csv('./data/도로교통공단_어린이 교통사고 현황_20191231.csv', encoding='cp949')\n",
    "data2 = pd.read_csv('./data/도로교통공단_어린이 사망교통사고 정보_20191231.csv', encoding='cp949')"
   ]
  },
  {
   "cell_type": "code",
   "execution_count": 5,
   "id": "ec78469b",
   "metadata": {},
   "outputs": [
    {
     "data": {
      "text/html": [
       "<div>\n",
       "<style scoped>\n",
       "    .dataframe tbody tr th:only-of-type {\n",
       "        vertical-align: middle;\n",
       "    }\n",
       "\n",
       "    .dataframe tbody tr th {\n",
       "        vertical-align: top;\n",
       "    }\n",
       "\n",
       "    .dataframe thead th {\n",
       "        text-align: right;\n",
       "    }\n",
       "</style>\n",
       "<table border=\"1\" class=\"dataframe\">\n",
       "  <thead>\n",
       "    <tr style=\"text-align: right;\">\n",
       "      <th></th>\n",
       "      <th>발생일</th>\n",
       "      <th>발생시간</th>\n",
       "      <th>주야</th>\n",
       "      <th>요일</th>\n",
       "      <th>사망자수</th>\n",
       "      <th>중상자수</th>\n",
       "      <th>경상자수</th>\n",
       "      <th>부상신고자수</th>\n",
       "      <th>발생지_시도</th>\n",
       "      <th>발생지_시군구</th>\n",
       "      <th>사고유형_대분류</th>\n",
       "      <th>사고유형_중분류</th>\n",
       "      <th>사고유형</th>\n",
       "      <th>가해자법규위반</th>\n",
       "      <th>도로형태_대분류</th>\n",
       "      <th>도로형태</th>\n",
       "      <th>가해자_당사자종별</th>\n",
       "      <th>피해자_당사자종별</th>\n",
       "    </tr>\n",
       "  </thead>\n",
       "  <tbody>\n",
       "    <tr>\n",
       "      <th>0</th>\n",
       "      <td>2015-01-01</td>\n",
       "      <td>1</td>\n",
       "      <td>야</td>\n",
       "      <td>목</td>\n",
       "      <td>0</td>\n",
       "      <td>1</td>\n",
       "      <td>0</td>\n",
       "      <td>0</td>\n",
       "      <td>경기</td>\n",
       "      <td>의왕시</td>\n",
       "      <td>차대사람</td>\n",
       "      <td>횡단중</td>\n",
       "      <td>횡단중</td>\n",
       "      <td>신호위반</td>\n",
       "      <td>단일로</td>\n",
       "      <td>횡단보도상</td>\n",
       "      <td>승용차</td>\n",
       "      <td>보행자</td>\n",
       "    </tr>\n",
       "    <tr>\n",
       "      <th>1</th>\n",
       "      <td>2015-01-01</td>\n",
       "      <td>1</td>\n",
       "      <td>야</td>\n",
       "      <td>목</td>\n",
       "      <td>0</td>\n",
       "      <td>0</td>\n",
       "      <td>2</td>\n",
       "      <td>0</td>\n",
       "      <td>경북</td>\n",
       "      <td>구미시</td>\n",
       "      <td>차대차</td>\n",
       "      <td>측면충돌</td>\n",
       "      <td>측면충돌</td>\n",
       "      <td>안전운전 의무 불이행</td>\n",
       "      <td>단일로</td>\n",
       "      <td>기타단일로</td>\n",
       "      <td>승용차</td>\n",
       "      <td>승용차</td>\n",
       "    </tr>\n",
       "    <tr>\n",
       "      <th>2</th>\n",
       "      <td>2015-01-01</td>\n",
       "      <td>2</td>\n",
       "      <td>야</td>\n",
       "      <td>목</td>\n",
       "      <td>0</td>\n",
       "      <td>0</td>\n",
       "      <td>2</td>\n",
       "      <td>0</td>\n",
       "      <td>강원</td>\n",
       "      <td>고성군</td>\n",
       "      <td>차대차</td>\n",
       "      <td>추돌</td>\n",
       "      <td>진행중 추돌</td>\n",
       "      <td>안전운전 의무 불이행</td>\n",
       "      <td>단일로</td>\n",
       "      <td>기타단일로</td>\n",
       "      <td>승합차</td>\n",
       "      <td>승용차</td>\n",
       "    </tr>\n",
       "    <tr>\n",
       "      <th>3</th>\n",
       "      <td>2015-01-01</td>\n",
       "      <td>9</td>\n",
       "      <td>주</td>\n",
       "      <td>목</td>\n",
       "      <td>0</td>\n",
       "      <td>1</td>\n",
       "      <td>0</td>\n",
       "      <td>0</td>\n",
       "      <td>충남</td>\n",
       "      <td>예산군</td>\n",
       "      <td>차대차</td>\n",
       "      <td>기타</td>\n",
       "      <td>기타</td>\n",
       "      <td>안전운전 의무 불이행</td>\n",
       "      <td>교차로</td>\n",
       "      <td>교차로내</td>\n",
       "      <td>승용차</td>\n",
       "      <td>승용차</td>\n",
       "    </tr>\n",
       "    <tr>\n",
       "      <th>4</th>\n",
       "      <td>2015-01-01</td>\n",
       "      <td>9</td>\n",
       "      <td>주</td>\n",
       "      <td>목</td>\n",
       "      <td>0</td>\n",
       "      <td>0</td>\n",
       "      <td>1</td>\n",
       "      <td>0</td>\n",
       "      <td>전남</td>\n",
       "      <td>나주시</td>\n",
       "      <td>차대차</td>\n",
       "      <td>측면충돌</td>\n",
       "      <td>측면충돌</td>\n",
       "      <td>안전운전 의무 불이행</td>\n",
       "      <td>단일로</td>\n",
       "      <td>기타단일로</td>\n",
       "      <td>승용차</td>\n",
       "      <td>승용차</td>\n",
       "    </tr>\n",
       "    <tr>\n",
       "      <th>...</th>\n",
       "      <td>...</td>\n",
       "      <td>...</td>\n",
       "      <td>...</td>\n",
       "      <td>...</td>\n",
       "      <td>...</td>\n",
       "      <td>...</td>\n",
       "      <td>...</td>\n",
       "      <td>...</td>\n",
       "      <td>...</td>\n",
       "      <td>...</td>\n",
       "      <td>...</td>\n",
       "      <td>...</td>\n",
       "      <td>...</td>\n",
       "      <td>...</td>\n",
       "      <td>...</td>\n",
       "      <td>...</td>\n",
       "      <td>...</td>\n",
       "      <td>...</td>\n",
       "    </tr>\n",
       "    <tr>\n",
       "      <th>55473</th>\n",
       "      <td>2019-12-31</td>\n",
       "      <td>19</td>\n",
       "      <td>야</td>\n",
       "      <td>화</td>\n",
       "      <td>0</td>\n",
       "      <td>0</td>\n",
       "      <td>3</td>\n",
       "      <td>0</td>\n",
       "      <td>서울</td>\n",
       "      <td>구로구</td>\n",
       "      <td>차대차</td>\n",
       "      <td>측면충돌</td>\n",
       "      <td>측면충돌</td>\n",
       "      <td>안전거리 미확보</td>\n",
       "      <td>단일로</td>\n",
       "      <td>기타단일로</td>\n",
       "      <td>승용차</td>\n",
       "      <td>승용차</td>\n",
       "    </tr>\n",
       "    <tr>\n",
       "      <th>55474</th>\n",
       "      <td>2019-12-31</td>\n",
       "      <td>20</td>\n",
       "      <td>야</td>\n",
       "      <td>화</td>\n",
       "      <td>0</td>\n",
       "      <td>0</td>\n",
       "      <td>2</td>\n",
       "      <td>0</td>\n",
       "      <td>전남</td>\n",
       "      <td>보성군</td>\n",
       "      <td>차대차</td>\n",
       "      <td>추돌</td>\n",
       "      <td>추돌</td>\n",
       "      <td>안전운전 의무 불이행</td>\n",
       "      <td>단일로</td>\n",
       "      <td>기타단일로</td>\n",
       "      <td>승용차</td>\n",
       "      <td>승용차</td>\n",
       "    </tr>\n",
       "    <tr>\n",
       "      <th>55475</th>\n",
       "      <td>2019-12-31</td>\n",
       "      <td>21</td>\n",
       "      <td>야</td>\n",
       "      <td>화</td>\n",
       "      <td>0</td>\n",
       "      <td>0</td>\n",
       "      <td>2</td>\n",
       "      <td>0</td>\n",
       "      <td>충북</td>\n",
       "      <td>청주시</td>\n",
       "      <td>차대차</td>\n",
       "      <td>기타</td>\n",
       "      <td>기타</td>\n",
       "      <td>안전운전 의무 불이행</td>\n",
       "      <td>단일로</td>\n",
       "      <td>기타단일로</td>\n",
       "      <td>이륜차</td>\n",
       "      <td>승용차</td>\n",
       "    </tr>\n",
       "    <tr>\n",
       "      <th>55476</th>\n",
       "      <td>2019-12-31</td>\n",
       "      <td>22</td>\n",
       "      <td>야</td>\n",
       "      <td>화</td>\n",
       "      <td>0</td>\n",
       "      <td>0</td>\n",
       "      <td>1</td>\n",
       "      <td>0</td>\n",
       "      <td>경기</td>\n",
       "      <td>수원시</td>\n",
       "      <td>차대차</td>\n",
       "      <td>추돌</td>\n",
       "      <td>추돌</td>\n",
       "      <td>안전거리 미확보</td>\n",
       "      <td>단일로</td>\n",
       "      <td>기타단일로</td>\n",
       "      <td>이륜차</td>\n",
       "      <td>승용차</td>\n",
       "    </tr>\n",
       "    <tr>\n",
       "      <th>55477</th>\n",
       "      <td>2019-12-31</td>\n",
       "      <td>22</td>\n",
       "      <td>야</td>\n",
       "      <td>화</td>\n",
       "      <td>0</td>\n",
       "      <td>0</td>\n",
       "      <td>0</td>\n",
       "      <td>1</td>\n",
       "      <td>대전</td>\n",
       "      <td>유성구</td>\n",
       "      <td>차대차</td>\n",
       "      <td>기타</td>\n",
       "      <td>기타</td>\n",
       "      <td>안전운전 의무 불이행</td>\n",
       "      <td>단일로</td>\n",
       "      <td>기타단일로</td>\n",
       "      <td>승용차</td>\n",
       "      <td>승용차</td>\n",
       "    </tr>\n",
       "  </tbody>\n",
       "</table>\n",
       "<p>55478 rows × 18 columns</p>\n",
       "</div>"
      ],
      "text/plain": [
       "              발생일  발생시간 주야 요일  사망자수  중상자수  경상자수  부상신고자수 발생지_시도 발생지_시군구  \\\n",
       "0      2015-01-01     1  야  목     0     1     0       0     경기     의왕시   \n",
       "1      2015-01-01     1  야  목     0     0     2       0     경북     구미시   \n",
       "2      2015-01-01     2  야  목     0     0     2       0     강원     고성군   \n",
       "3      2015-01-01     9  주  목     0     1     0       0     충남     예산군   \n",
       "4      2015-01-01     9  주  목     0     0     1       0     전남     나주시   \n",
       "...           ...   ... .. ..   ...   ...   ...     ...    ...     ...   \n",
       "55473  2019-12-31    19  야  화     0     0     3       0     서울     구로구   \n",
       "55474  2019-12-31    20  야  화     0     0     2       0     전남     보성군   \n",
       "55475  2019-12-31    21  야  화     0     0     2       0     충북     청주시   \n",
       "55476  2019-12-31    22  야  화     0     0     1       0     경기     수원시   \n",
       "55477  2019-12-31    22  야  화     0     0     0       1     대전     유성구   \n",
       "\n",
       "      사고유형_대분류 사고유형_중분류    사고유형      가해자법규위반 도로형태_대분류   도로형태 가해자_당사자종별  \\\n",
       "0         차대사람      횡단중     횡단중         신호위반      단일로  횡단보도상       승용차   \n",
       "1          차대차     측면충돌    측면충돌  안전운전 의무 불이행      단일로  기타단일로       승용차   \n",
       "2          차대차       추돌  진행중 추돌  안전운전 의무 불이행      단일로  기타단일로       승합차   \n",
       "3          차대차       기타      기타  안전운전 의무 불이행      교차로   교차로내       승용차   \n",
       "4          차대차     측면충돌    측면충돌  안전운전 의무 불이행      단일로  기타단일로       승용차   \n",
       "...        ...      ...     ...          ...      ...    ...       ...   \n",
       "55473      차대차     측면충돌    측면충돌     안전거리 미확보      단일로  기타단일로       승용차   \n",
       "55474      차대차       추돌      추돌  안전운전 의무 불이행      단일로  기타단일로       승용차   \n",
       "55475      차대차       기타      기타  안전운전 의무 불이행      단일로  기타단일로       이륜차   \n",
       "55476      차대차       추돌      추돌     안전거리 미확보      단일로  기타단일로       이륜차   \n",
       "55477      차대차       기타      기타  안전운전 의무 불이행      단일로  기타단일로       승용차   \n",
       "\n",
       "      피해자_당사자종별  \n",
       "0           보행자  \n",
       "1           승용차  \n",
       "2           승용차  \n",
       "3           승용차  \n",
       "4           승용차  \n",
       "...         ...  \n",
       "55473       승용차  \n",
       "55474       승용차  \n",
       "55475       승용차  \n",
       "55476       승용차  \n",
       "55477       승용차  \n",
       "\n",
       "[55478 rows x 18 columns]"
      ]
     },
     "execution_count": 5,
     "metadata": {},
     "output_type": "execute_result"
    }
   ],
   "source": [
    "data_a = data1.copy()\n",
    "data_a"
   ]
  },
  {
   "cell_type": "code",
   "execution_count": 6,
   "id": "8a4492fb",
   "metadata": {},
   "outputs": [
    {
     "data": {
      "text/plain": [
       "3188"
      ]
     },
     "execution_count": 6,
     "metadata": {},
     "output_type": "execute_result"
    }
   ],
   "source": [
    "data_a = data_a[data_a['발생지_시도']=='서울']\n",
    "data_a=data_a[data_a['사고유형_대분류']=='차대사람']\n",
    "total = int(data_a['발생일'].count())\n",
    "total"
   ]
  },
  {
   "cell_type": "code",
   "execution_count": 7,
   "id": "94d53a7c",
   "metadata": {},
   "outputs": [],
   "source": [
    "# data_b=data_a[data_a['사고유형']=='횡단중']\n",
    "# data_b['발생일'].count()"
   ]
  },
  {
   "cell_type": "code",
   "execution_count": 8,
   "id": "4dd8b606",
   "metadata": {},
   "outputs": [
    {
     "data": {
      "text/plain": [
       "[263, 22, 191]"
      ]
     },
     "execution_count": 8,
     "metadata": {},
     "output_type": "execute_result"
    }
   ],
   "source": [
    "# 횡단보도\n",
    "road_style=['교차로횡단보도내', '횡단보도부근', '횡단보도상']\n",
    "\n",
    "data_c = data_a.copy()\n",
    "\n",
    "data_crossroads = []\n",
    "for i in road_style:\n",
    "    data_cross=data_c[data_c['도로형태'] == i]\n",
    "    a = data_cross['발생일'].count()\n",
    "    data_crossroads.append(a)\n",
    "data_crossroads"
   ]
  },
  {
   "cell_type": "code",
   "execution_count": 9,
   "id": "2bb7d6a4",
   "metadata": {},
   "outputs": [
    {
     "data": {
      "text/plain": [
       "476"
      ]
     },
     "execution_count": 9,
     "metadata": {},
     "output_type": "execute_result"
    }
   ],
   "source": [
    "crossroads = int(sum(data_crossroads))\n",
    "crossroads"
   ]
  },
  {
   "cell_type": "code",
   "execution_count": 10,
   "id": "cc9eb410",
   "metadata": {},
   "outputs": [
    {
     "data": {
      "text/plain": [
       "3"
      ]
     },
     "execution_count": 10,
     "metadata": {},
     "output_type": "execute_result"
    }
   ],
   "source": [
    "# 고가도로위 사고수\n",
    "data_d = data_a.copy()\n",
    "data_d = data_d[data_d['도로형태'] == '고가도로위']\n",
    "goga=int(data_d['발생일'].count())\n",
    "goga"
   ]
  },
  {
   "cell_type": "code",
   "execution_count": 11,
   "id": "f0030017",
   "metadata": {},
   "outputs": [
    {
     "data": {
      "text/plain": [
       "4"
      ]
     },
     "execution_count": 11,
     "metadata": {},
     "output_type": "execute_result"
    }
   ],
   "source": [
    "# 교량위\n",
    "data_e = data_a.copy()\n",
    "data_e = data_e[data_e['도로형태']=='교량위']\n",
    "bridge = int(data_e['발생일'].count())\n",
    "bridge"
   ]
  },
  {
   "cell_type": "code",
   "execution_count": 12,
   "id": "aac0ff80",
   "metadata": {},
   "outputs": [
    {
     "data": {
      "text/plain": [
       "1685"
      ]
     },
     "execution_count": 12,
     "metadata": {},
     "output_type": "execute_result"
    }
   ],
   "source": [
    "# 기타단일로\n",
    "data_f = data_a.copy()\n",
    "data_f = data_f[data_f['도로형태']=='기타단일로']\n",
    "singleroad = int(data_f['발생일'].count())\n",
    "singleroad"
   ]
  },
  {
   "cell_type": "code",
   "execution_count": 13,
   "id": "41b7616e",
   "metadata": {},
   "outputs": [
    {
     "data": {
      "text/plain": [
       "9"
      ]
     },
     "execution_count": 13,
     "metadata": {},
     "output_type": "execute_result"
    }
   ],
   "source": [
    "# 지하차도(도로)내\n",
    "data_g = data_a.copy()\n",
    "data_g = data_g[data_g['도로형태']=='지하차도(도로)내']\n",
    "underpass = int(data_g['발생일'].count())\n",
    "underpass"
   ]
  },
  {
   "cell_type": "code",
   "execution_count": 14,
   "id": "10d42b04",
   "metadata": {},
   "outputs": [
    {
     "data": {
      "text/plain": [
       "821"
      ]
     },
     "execution_count": 14,
     "metadata": {},
     "output_type": "execute_result"
    }
   ],
   "source": [
    "# 교차로내, 교차로부근 묶기 : intersection\n",
    "data_h = data_a.copy()\n",
    "inter_list=['교차로내', '교차로부근']\n",
    "intersection = []\n",
    "for inter in inter_list:\n",
    "    data_inters=data_h[data_h['도로형태'] == inter]\n",
    "    intersection.append(data_inters['발생일'].count())\n",
    "intersections = int(sum(intersection))\n",
    "intersections"
   ]
  },
  {
   "cell_type": "code",
   "execution_count": 15,
   "id": "ce85414b",
   "metadata": {},
   "outputs": [
    {
     "data": {
      "text/plain": [
       "190"
      ]
     },
     "execution_count": 15,
     "metadata": {},
     "output_type": "execute_result"
    }
   ],
   "source": [
    "# 기타, 기타/불명, 불명 묶어서 건수 나타내기 : etcs\n",
    "data_i = data_a.copy()\n",
    "etc_list=['기타', '기타/불명', '불명']\n",
    "etcroad = []\n",
    "for etc in etc_list:\n",
    "    data_etcs=data_i[data_i['도로형태'] == etc]\n",
    "    etcroad.append(data_etcs['발생일'].count())\n",
    "etcroads = int(sum(etcroad))\n",
    "etcroads"
   ]
  },
  {
   "cell_type": "code",
   "execution_count": 16,
   "id": "82b4041e",
   "metadata": {},
   "outputs": [
    {
     "data": {
      "text/plain": [
       "<Figure size 360x360 with 0 Axes>"
      ]
     },
     "execution_count": 16,
     "metadata": {},
     "output_type": "execute_result"
    },
    {
     "data": {
      "text/plain": [
       "([<matplotlib.patches.Wedge at 0x155acf19910>,\n",
       "  <matplotlib.patches.Wedge at 0x155ad0a10d0>,\n",
       "  <matplotlib.patches.Wedge at 0x155ad0a17f0>,\n",
       "  <matplotlib.patches.Wedge at 0x155ad0a1f10>,\n",
       "  <matplotlib.patches.Wedge at 0x155ad0ad670>,\n",
       "  <matplotlib.patches.Wedge at 0x155ad0add90>,\n",
       "  <matplotlib.patches.Wedge at 0x155ad0bc4f0>],\n",
       " [Text(1.0703863929681896, 0.542469326090009, '횡단보도'),\n",
       "  Text(0.6477908775611465, 0.8890258595499683, '고가도로'),\n",
       "  Text(0.6416429231745718, 0.893473200012172, '교량'),\n",
       "  Text(-0.9495418363609588, 0.555310994849065, '기타단일로'),\n",
       "  Text(-0.45919628434267157, -0.9995692934688843, '지하차도(도로)'),\n",
       "  Text(0.4154376204620137, -1.0185340364979758, '교차로'),\n",
       "  Text(1.0807751392618596, -0.20475619246681645, '기타')],\n",
       " [Text(0.6243920625647772, 0.31644044021917184, '14.9%'),\n",
       "  Text(0.35334047866971624, 0.4849231961181645, '0.1%'),\n",
       "  Text(0.3499870490043119, 0.4873490181884574, '0.1%'),\n",
       "  Text(-0.5179319107423411, 0.3028969062813081, '52.9%'),\n",
       "  Text(-0.2504707005505481, -0.5452196146193914, '0.3%'),\n",
       "  Text(0.22660233843382563, -0.5555640199079868, '25.8%'),\n",
       "  Text(0.5895137123246507, -0.11168519589099078, '6.0%')])"
      ]
     },
     "execution_count": 16,
     "metadata": {},
     "output_type": "execute_result"
    },
    {
     "data": {
      "image/png": "[encoded data removed]",
      "text/plain": [
       "<Figure size 360x360 with 1 Axes>"
      ]
     },
     "metadata": {},
     "output_type": "display_data"
    }
   ],
   "source": [
    "result = [crossroads, goga, bridge, singleroad, underpass, intersections, etcroads]\n",
    "roadType = '횡단보도', '고가도로', '교량', '기타단일로', '지하차도(도로)', '교차로', '기타'\n",
    "colors = ['gold', '#ffc000', '#8fd9b6', '#d395d0', 'silver', '#ff9999', 'lightgray']\n",
    "explode = [0.1, 0, 0, 0, 0, 0, 0]\n",
    "plt.figure(figsize=(5,5))\n",
    "plt.pie(result,labels=roadType, autopct='%.1f%%', colors=colors, explode=explode)\n",
    "plt.show()"
   ]
  },
  {
   "cell_type": "code",
   "execution_count": 17,
   "id": "63c773b9",
   "metadata": {},
   "outputs": [
    {
     "data": {
      "text/plain": [
       "<Figure size 360x360 with 0 Axes>"
      ]
     },
     "execution_count": 17,
     "metadata": {},
     "output_type": "execute_result"
    },
    {
     "data": {
      "text/plain": [
       "([<matplotlib.patches.Wedge at 0x155ae44d580>,\n",
       "  <matplotlib.patches.Wedge at 0x155ae44df70>,\n",
       "  <matplotlib.patches.Wedge at 0x155ae45a970>,\n",
       "  <matplotlib.patches.Wedge at 0x155ae468340>,\n",
       "  <matplotlib.patches.Wedge at 0x155ae468cd0>,\n",
       "  <matplotlib.patches.Wedge at 0x155ae4756a0>],\n",
       " [Text(0.6534616943450918, 1.0064729574229214, '횡단보도'),\n",
       "  Text(-0.4539122135573937, 1.0019798912071176, '고가도로'),\n",
       "  Text(-0.46852357560938135, 0.9952314600625326, '교량'),\n",
       "  Text(-0.4953905054170982, 0.9821345361724085, '지하차도(도로)'),\n",
       "  Text(-0.8880228624705616, -0.6491651528922283, '교차로'),\n",
       "  Text(1.0143877292701404, -0.4254615549096869, '기타')],\n",
       " [Text(0.38118598836797024, 0.5871092251633708, '31.7%'),\n",
       "  Text(-0.2475884801222147, 0.5465344861129732, '0.2%'),\n",
       "  Text(-0.25555831396875345, 0.5428535236704722, '0.3%'),\n",
       "  Text(-0.2702130029547808, 0.5357097470031319, '0.6%'),\n",
       "  Text(-0.48437610680212445, -0.35409008339576087, '54.6%'),\n",
       "  Text(0.5533023977837129, -0.23206993904164738, '12.6%')])"
      ]
     },
     "execution_count": 17,
     "metadata": {},
     "output_type": "execute_result"
    },
    {
     "data": {
      "image/png": "[encoded data removed]",
      "text/plain": [
       "<Figure size 360x360 with 1 Axes>"
      ]
     },
     "metadata": {},
     "output_type": "display_data"
    }
   ],
   "source": [
    "result = [crossroads, goga, bridge, underpass, intersections, etcroads]\n",
    "roadType = '횡단보도', '고가도로', '교량', '지하차도(도로)', '교차로', '기타'\n",
    "colors = ['gold', '#ffc000', '#8fd9b6', 'silver', '#ff9999', 'lightgray']\n",
    "explode = [0.1, 0, 0, 0, 0, 0]\n",
    "plt.figure(figsize=(5,5))\n",
    "plt.pie(result,labels=roadType, autopct='%.1f%%', colors=colors, explode=explode, shadow=True)\n",
    "plt.show()"
   ]
  },
  {
   "cell_type": "code",
   "execution_count": 18,
   "id": "42d36724",
   "metadata": {},
   "outputs": [
    {
     "data": {
      "text/plain": [
       "3"
      ]
     },
     "execution_count": 18,
     "metadata": {},
     "output_type": "execute_result"
    }
   ],
   "source": [
    "# 가해자 법규위반 \n",
    "# 과속\n",
    "data_z = data_a.copy()\n",
    "data_z = data_z[data_z['가해자법규위반']=='과속']\n",
    "speed = data_z['발생일'].count()\n",
    "speed"
   ]
  },
  {
   "cell_type": "code",
   "execution_count": 19,
   "id": "721db72a",
   "metadata": {},
   "outputs": [
    {
     "data": {
      "text/plain": [
       "4"
      ]
     },
     "execution_count": 19,
     "metadata": {},
     "output_type": "execute_result"
    }
   ],
   "source": [
    "# 교차로 통행방법 위반\n",
    "data_y = data_a.copy()\n",
    "data_y = data_y[data_y['가해자법규위반']=='교차로 통행방법 위반']\n",
    "cross = data_y['발생일'].count()\n",
    "cross"
   ]
  },
  {
   "cell_type": "code",
   "execution_count": 20,
   "id": "8f4d623e",
   "metadata": {},
   "outputs": [
    {
     "data": {
      "text/plain": [
       "227"
      ]
     },
     "execution_count": 20,
     "metadata": {},
     "output_type": "execute_result"
    }
   ],
   "source": [
    "# 기타\n",
    "data_x = data_a.copy()\n",
    "data_x = data_x[data_x['가해자법규위반']=='기타']\n",
    "kita = data_x['발생일'].count()\n",
    "kita"
   ]
  },
  {
   "cell_type": "code",
   "execution_count": 21,
   "id": "99dc5af4",
   "metadata": {},
   "outputs": [
    {
     "data": {
      "text/plain": [
       "674"
      ]
     },
     "execution_count": 21,
     "metadata": {},
     "output_type": "execute_result"
    }
   ],
   "source": [
    "# 보행자 보호의무 위반\n",
    "data_w = data_a.copy()\n",
    "data_w = data_w[data_w['가해자법규위반']=='보행자 보호의무 위반']\n",
    "mamoru = data_w['발생일'].count()\n",
    "mamoru"
   ]
  },
  {
   "cell_type": "code",
   "execution_count": 22,
   "id": "0e9b0ca8",
   "metadata": {},
   "outputs": [
    {
     "data": {
      "text/plain": [
       "432"
      ]
     },
     "execution_count": 22,
     "metadata": {},
     "output_type": "execute_result"
    }
   ],
   "source": [
    "# 신호위반\n",
    "data_v = data_a.copy()\n",
    "data_v = data_v[data_v['가해자법규위반']=='신호위반']\n",
    "singo = data_v['발생일'].count()\n",
    "singo"
   ]
  },
  {
   "cell_type": "code",
   "execution_count": 23,
   "id": "3a8a0576",
   "metadata": {},
   "outputs": [
    {
     "data": {
      "text/plain": [
       "2"
      ]
     },
     "execution_count": 23,
     "metadata": {},
     "output_type": "execute_result"
    }
   ],
   "source": [
    "# 안전거리 미확보\n",
    "data_u = data_a.copy()\n",
    "data_u = data_u[data_u['가해자법규위반']=='안전거리 미확보']\n",
    "kyouri = data_u['발생일'].count()\n",
    "kyouri"
   ]
  },
  {
   "cell_type": "code",
   "execution_count": 24,
   "id": "abbb808e",
   "metadata": {},
   "outputs": [
    {
     "data": {
      "text/plain": [
       "1816"
      ]
     },
     "execution_count": 24,
     "metadata": {},
     "output_type": "execute_result"
    }
   ],
   "source": [
    "# 안전운전 의무 불이행\n",
    "data_t = data_a.copy()\n",
    "data_t = data_t[data_t['가해자법규위반']=='안전운전 의무 불이행']\n",
    "gimu = data_t['발생일'].count()\n",
    "gimu"
   ]
  },
  {
   "cell_type": "code",
   "execution_count": 25,
   "id": "da8ee6a0",
   "metadata": {},
   "outputs": [
    {
     "data": {
      "text/plain": [
       "30"
      ]
     },
     "execution_count": 25,
     "metadata": {},
     "output_type": "execute_result"
    }
   ],
   "source": [
    "# 중앙선 침범\n",
    "data_s = data_a.copy()\n",
    "data_s = data_s[data_s['가해자법규위반']=='중앙선 침범']\n",
    "choukou = data_s['발생일'].count()\n",
    "choukou"
   ]
  },
  {
   "cell_type": "code",
   "execution_count": 26,
   "id": "44c18d6f",
   "metadata": {
    "scrolled": true
   },
   "outputs": [
    {
     "data": {
      "text/plain": [
       "[2, 3, 4, 30, 227, 432, 674, 1816]"
      ]
     },
     "execution_count": 26,
     "metadata": {},
     "output_type": "execute_result"
    },
    {
     "data": {
      "text/plain": [
       "<Figure size 360x360 with 0 Axes>"
      ]
     },
     "execution_count": 26,
     "metadata": {},
     "output_type": "execute_result"
    },
    {
     "data": {
      "text/plain": [
       "Text(0.5, 0, '<서울시 교통사고 가해자 법규위법 유형>')"
      ]
     },
     "execution_count": 26,
     "metadata": {},
     "output_type": "execute_result"
    },
    {
     "data": {
      "text/plain": [
       "([<matplotlib.patches.Wedge at 0x155ae4d3e20>,\n",
       "  <matplotlib.patches.Wedge at 0x155ae4e1730>,\n",
       "  <matplotlib.patches.Wedge at 0x155ae4e1df0>,\n",
       "  <matplotlib.patches.Wedge at 0x155ae4f2460>,\n",
       "  <matplotlib.patches.Wedge at 0x155ae4f2b80>,\n",
       "  <matplotlib.patches.Wedge at 0x155ae4ff2e0>,\n",
       "  <matplotlib.patches.Wedge at 0x155ae4ffa00>,\n",
       "  <matplotlib.patches.Wedge at 0x155ae50b160>],\n",
       " [Text(1.0999978635848435, 0.0021679734270241206, '안전거리 미확보'),\n",
       "  Text(1.0999738290089427, 0.007587851830747868, '과속'),\n",
       "  Text(1.0998953172810813, 0.015175342604036813, '교차로 통행방법 위반'),\n",
       "  Text(1.098769653934225, 0.05201199470567728, '중앙성 침범'),\n",
       "  Text(1.0506878883874107, 0.3256608069694668, '기타'),\n",
       "  Text(0.6398808172461944, 0.8947360167783248, '신호위반'),\n",
       "  Text(-0.49726349221766053, 0.981187555622011, '보행자 보호의무 위반'),\n",
       "  Text(-0.2604331434009315, -1.1713985563497635, '안전운전 의무 불이행')],\n",
       " [Text(0.5999988346826418, 0.0011825309601949747, '0.1%'),\n",
       "  Text(0.5999857249139687, 0.004138828271317018, '0.1%'),\n",
       "  Text(0.5999429003351351, 0.008277459602201897, '0.1%'),\n",
       "  Text(0.5993289021459409, 0.028370178930369423, '0.9%'),\n",
       "  Text(0.5731024845749512, 0.17763316743789095, '7.1%'),\n",
       "  Text(0.34902590031610603, 0.48803782733363166, '13.6%'),\n",
       "  Text(-0.2712346321187239, 0.5351932121574605, '21.1%'),\n",
       "  Text(-0.15191933365054336, -0.683315824537362, '57.0%')])"
      ]
     },
     "execution_count": 26,
     "metadata": {},
     "output_type": "execute_result"
    },
    {
     "data": {
      "image/png": "[encoded data removed]",
      "text/plain": [
       "<Figure size 360x360 with 1 Axes>"
      ]
     },
     "metadata": {},
     "output_type": "display_data"
    }
   ],
   "source": [
    "result2 = [speed, cross, kita, mamoru, singo, kyouri, gimu, choukou]\n",
    "result2.sort()\n",
    "result2\n",
    "styleType = '안전거리 미확보', '과속', '교차로 통행방법 위반', '중앙성 침범', '기타', '신호위반', '보행자 보호의무 위반', '안전운전 의무 불이행'\n",
    "colors = ['whitesmoke', 'silver' , 'lightgray', '#ffc000', '#8fd9b6', '#d395d0', '#ff9999',  'gold']\n",
    "explode = [0, 0, 0, 0, 0, 0, 0, 0.1]\n",
    "plt.figure(figsize=(5,5))\n",
    "plt.xlabel('<서울시 교통사고 가해자 법규위법 유형>')\n",
    "plt.pie(result2, autopct='%.1f%%', colors=colors, labels=styleType, explode=explode)\n",
    "plt.show()"
   ]
  },
  {
   "cell_type": "code",
   "execution_count": 27,
   "id": "8016a2fc",
   "metadata": {},
   "outputs": [
    {
     "data": {
      "text/plain": [
       "[2, 3, 4, 30, 227, 432, 674, 1816]"
      ]
     },
     "execution_count": 27,
     "metadata": {},
     "output_type": "execute_result"
    },
    {
     "name": "stdout",
     "output_type": "stream",
     "text": [
      "3188\n",
      "result3 : [0.06273525721455457, 0.09410288582183186, 0.12547051442910914, 0.9410288582183186, 7.120451693851945, 13.55081555834379, 21.141781681304895, 56.96361355081556]\n"
     ]
    },
    {
     "data": {
      "text/plain": [
       "<Figure size 360x360 with 0 Axes>"
      ]
     },
     "execution_count": 27,
     "metadata": {},
     "output_type": "execute_result"
    },
    {
     "data": {
      "text/plain": [
       "Text(0.5, 0, '<서울시 교통사고 가해자 법규위법 유형>')"
      ]
     },
     "execution_count": 27,
     "metadata": {},
     "output_type": "execute_result"
    },
    {
     "data": {
      "text/plain": [
       "<BarContainer object of 8 artists>"
      ]
     },
     "execution_count": 27,
     "metadata": {},
     "output_type": "execute_result"
    },
    {
     "data": {
      "text/plain": [
       "(0.000, 60.000)"
      ]
     },
     "execution_count": 27,
     "metadata": {},
     "output_type": "execute_result"
    },
    {
     "data": {
      "image/png": "[encoded data removed]",
      "text/plain": [
       "<Figure size 360x360 with 1 Axes>"
      ]
     },
     "metadata": {
      "needs_background": "light"
     },
     "output_type": "display_data"
    }
   ],
   "source": [
    "result2 = [speed, cross, kita, mamoru, singo, kyouri, gimu, choukou]\n",
    "result2.sort()\n",
    "result2\n",
    "result_sum=0\n",
    "for i in result2:\n",
    "    result_sum += i\n",
    "print(result_sum)\n",
    "result3 = []\n",
    "for j in result2:\n",
    "    x = j/result_sum * 100\n",
    "    result3.append(x)\n",
    "print('result3 :', result3) \n",
    "styleType = ['안전거리 미확보', '과속', '교차로 통행방법 위반', '중앙성 침범', '기타', '신호위반', '보행자 보호의무 위반', '안전운전 의무 불이행']\n",
    "colors = ['whitesmoke', '#ffc000' , 'lightgray', 'silver', '#8fd9b6', '#d395d0', '#ff9999',  'gold']\n",
    "\n",
    "plt.figure(figsize=(5,5))\n",
    "plt.xlabel('<서울시 교통사고 가해자 법규위법 유형>')\n",
    "plt.barh(styleType, result3, color=colors)\n",
    "plt.xlim([0,60])\n",
    "plt.show()"
   ]
  },
  {
   "cell_type": "code",
   "execution_count": 28,
   "id": "48e785ad",
   "metadata": {},
   "outputs": [
    {
     "data": {
      "text/plain": [
       "[1816, 674, 432, 227, 30, 4, 3, 2]"
      ]
     },
     "execution_count": 28,
     "metadata": {},
     "output_type": "execute_result"
    },
    {
     "name": "stdout",
     "output_type": "stream",
     "text": [
      "3188\n",
      "result3 : [56.96361355081556, 21.141781681304895, 13.55081555834379, 7.120451693851945, 0.9410288582183186, 0.12547051442910914, 0.09410288582183186, 0.06273525721455457]\n"
     ]
    },
    {
     "data": {
      "text/plain": [
       "<Figure size 360x360 with 0 Axes>"
      ]
     },
     "execution_count": 28,
     "metadata": {},
     "output_type": "execute_result"
    },
    {
     "data": {
      "text/plain": [
       "Text(0.5, 0, '<서울시 교통사고 가해자 법규위법 유형>')"
      ]
     },
     "execution_count": 28,
     "metadata": {},
     "output_type": "execute_result"
    },
    {
     "data": {
      "text/plain": [
       "<BarContainer object of 8 artists>"
      ]
     },
     "execution_count": 28,
     "metadata": {},
     "output_type": "execute_result"
    },
    {
     "data": {
      "text/plain": [
       "(0.000, 60.000)"
      ]
     },
     "execution_count": 28,
     "metadata": {},
     "output_type": "execute_result"
    },
    {
     "data": {
      "image/png": "[encoded data removed]",
      "text/plain": [
       "<Figure size 360x360 with 1 Axes>"
      ]
     },
     "metadata": {
      "needs_background": "light"
     },
     "output_type": "display_data"
    }
   ],
   "source": [
    "result2 = [speed, cross, kita, mamoru, singo, kyouri, gimu, choukou]\n",
    "result2.sort(reverse=True)\n",
    "result2\n",
    "result_sum=0\n",
    "for i in result2:\n",
    "    result_sum += i\n",
    "print(result_sum)\n",
    "result3 = []\n",
    "for j in result2:\n",
    "    x = j/result_sum * 100\n",
    "    result3.append(x)\n",
    "print('result3 :', result3) \n",
    "styleType = ['안전운전 의무 불이행', '보행자 보호의무 위반', '신호위반', '기타', '중앙선 침범', '교차로 통행방법 위반', '과속', '안전거리 미확보']\n",
    "colors = ['gold', '#ff9999', '#d395d0', '#8fd9b6', 'silver', 'lightgray', '#ffc000', 'whitesmoke']\n",
    "\n",
    "plt.figure(figsize=(5,5))\n",
    "plt.xlabel('<서울시 교통사고 가해자 법규위법 유형>')\n",
    "plt.barh(styleType, result3, color=colors)\n",
    "plt.xlim([0,60])\n",
    "plt.show()"
   ]
  },
  {
   "cell_type": "code",
   "execution_count": 29,
   "id": "b564fcb3",
   "metadata": {},
   "outputs": [
    {
     "data": {
      "text/plain": [
       "[1816, 674, 432, 227, 30, 4, 3, 2]"
      ]
     },
     "execution_count": 29,
     "metadata": {},
     "output_type": "execute_result"
    },
    {
     "name": "stdout",
     "output_type": "stream",
     "text": [
      "3188\n"
     ]
    },
    {
     "data": {
      "text/html": [
       "<div>\n",
       "<style scoped>\n",
       "    .dataframe tbody tr th:only-of-type {\n",
       "        vertical-align: middle;\n",
       "    }\n",
       "\n",
       "    .dataframe tbody tr th {\n",
       "        vertical-align: top;\n",
       "    }\n",
       "\n",
       "    .dataframe thead th {\n",
       "        text-align: right;\n",
       "    }\n",
       "</style>\n",
       "<table border=\"1\" class=\"dataframe\">\n",
       "  <thead>\n",
       "    <tr style=\"text-align: right;\">\n",
       "      <th></th>\n",
       "      <th>법규위법유형(%)</th>\n",
       "    </tr>\n",
       "  </thead>\n",
       "  <tbody>\n",
       "    <tr>\n",
       "      <th>안전운전 의무 불이행</th>\n",
       "      <td>56.964</td>\n",
       "    </tr>\n",
       "    <tr>\n",
       "      <th>보행자 보호의무 위반</th>\n",
       "      <td>21.142</td>\n",
       "    </tr>\n",
       "    <tr>\n",
       "      <th>신호위반</th>\n",
       "      <td>13.551</td>\n",
       "    </tr>\n",
       "    <tr>\n",
       "      <th>기타</th>\n",
       "      <td>7.120</td>\n",
       "    </tr>\n",
       "    <tr>\n",
       "      <th>중앙선 침범</th>\n",
       "      <td>0.941</td>\n",
       "    </tr>\n",
       "    <tr>\n",
       "      <th>교차로 통행방법 위반</th>\n",
       "      <td>0.125</td>\n",
       "    </tr>\n",
       "    <tr>\n",
       "      <th>과속</th>\n",
       "      <td>0.094</td>\n",
       "    </tr>\n",
       "    <tr>\n",
       "      <th>안전거리 미확보</th>\n",
       "      <td>0.063</td>\n",
       "    </tr>\n",
       "  </tbody>\n",
       "</table>\n",
       "</div>"
      ],
      "text/plain": [
       "             법규위법유형(%)\n",
       "안전운전 의무 불이행     56.964\n",
       "보행자 보호의무 위반     21.142\n",
       "신호위반            13.551\n",
       "기타               7.120\n",
       "중앙선 침범           0.941\n",
       "교차로 통행방법 위반      0.125\n",
       "과속               0.094\n",
       "안전거리 미확보         0.063"
      ]
     },
     "execution_count": 29,
     "metadata": {},
     "output_type": "execute_result"
    },
    {
     "data": {
      "text/plain": [
       "<Figure size 360x360 with 0 Axes>"
      ]
     },
     "execution_count": 29,
     "metadata": {},
     "output_type": "execute_result"
    },
    {
     "data": {
      "text/plain": [
       "(0.000, 70.000)"
      ]
     },
     "execution_count": 29,
     "metadata": {},
     "output_type": "execute_result"
    },
    {
     "data": {
      "text/plain": [
       "Text(57.53364, 0.0, '56.96 %')"
      ]
     },
     "execution_count": 29,
     "metadata": {},
     "output_type": "execute_result"
    },
    {
     "data": {
      "text/plain": [
       "Text(21.35342, 1.0, '21.14 %')"
      ]
     },
     "execution_count": 29,
     "metadata": {},
     "output_type": "execute_result"
    },
    {
     "data": {
      "text/plain": [
       "Text(13.68651, 2.0, '13.55 %')"
      ]
     },
     "execution_count": 29,
     "metadata": {},
     "output_type": "execute_result"
    },
    {
     "data": {
      "text/plain": [
       "Text(7.1912, 3.0, '7.12 %')"
      ]
     },
     "execution_count": 29,
     "metadata": {},
     "output_type": "execute_result"
    },
    {
     "data": {
      "text/plain": [
       "Text(0.95041, 4.0, '0.94 %')"
      ]
     },
     "execution_count": 29,
     "metadata": {},
     "output_type": "execute_result"
    },
    {
     "data": {
      "text/plain": [
       "Text(0.12625, 5.0, '0.12 %')"
      ]
     },
     "execution_count": 29,
     "metadata": {},
     "output_type": "execute_result"
    },
    {
     "data": {
      "text/plain": [
       "Text(0.09494, 6.0, '0.09 %')"
      ]
     },
     "execution_count": 29,
     "metadata": {},
     "output_type": "execute_result"
    },
    {
     "data": {
      "text/plain": [
       "Text(0.06363, 7.0, '0.06 %')"
      ]
     },
     "execution_count": 29,
     "metadata": {},
     "output_type": "execute_result"
    },
    {
     "data": {
      "text/plain": [
       "<Figure size 360x360 with 0 Axes>"
      ]
     },
     "metadata": {},
     "output_type": "display_data"
    },
    {
     "data": {
      "image/png": "[encoded data removed]",
      "text/plain": [
       "<Figure size 432x288 with 1 Axes>"
      ]
     },
     "metadata": {
      "needs_background": "light"
     },
     "output_type": "display_data"
    }
   ],
   "source": [
    "result2 = [speed, cross, kita, mamoru, singo, kyouri, gimu, choukou]\n",
    "result2.sort(reverse=True)\n",
    "result2\n",
    "result_sum=0\n",
    "for i in result2:\n",
    "    result_sum += i\n",
    "print(result_sum)\n",
    "result3 = []\n",
    "for j in result2:\n",
    "    x = j/result_sum * 100\n",
    "    result3.append(x)\n",
    "# print('result3 :', result3) \n",
    "result4 = np.round(result3, 3)\n",
    "# result4\n",
    "\n",
    "\n",
    "styleType = ['안전운전 의무 불이행', '보행자 보호의무 위반', '신호위반', '기타', '중앙선 침범', '교차로 통행방법 위반', '과속', '안전거리 미확보']\n",
    "\n",
    "df = pd.DataFrame(result4, index=styleType)\n",
    "df.columns = ['법규위법유형(%)']\n",
    "df\n",
    "\n",
    "colors = ['gold', '#ff9999', '#d395d0', '#8fd9b6', 'silver', 'lightgray', '#ffc000', 'whitesmoke']\n",
    "\n",
    "plt.figure(figsize=(5,5))\n",
    "# plt.xlabel('<서울시 교통사고 가해자 법규위법 유형>')\n",
    "ax = df.plot(kind='barh', title = '<서울시 교통사고 가해자 법규위법 유형>', rot = 0, color=colors)\n",
    "plt.xlim([0,70])\n",
    "\n",
    "\n",
    "for p in ax.patches:\n",
    "    x, y, width, height = p.get_bbox().bounds\n",
    "    ax.text(width*1.01, y+height/2, \"%.2f %%\"%(width), va='center')\n",
    "\n",
    "plt.sca(ax)\n",
    "plt.show()"
   ]
  },
  {
   "cell_type": "code",
   "execution_count": 30,
   "id": "fac7b64b",
   "metadata": {
    "scrolled": true
   },
   "outputs": [
    {
     "data": {
      "text/plain": [
       "[1816, 674, 432, 227, 30, 4, 3, 2]"
      ]
     },
     "execution_count": 30,
     "metadata": {},
     "output_type": "execute_result"
    },
    {
     "name": "stdout",
     "output_type": "stream",
     "text": [
      "3188\n"
     ]
    },
    {
     "data": {
      "text/html": [
       "<div>\n",
       "<style scoped>\n",
       "    .dataframe tbody tr th:only-of-type {\n",
       "        vertical-align: middle;\n",
       "    }\n",
       "\n",
       "    .dataframe tbody tr th {\n",
       "        vertical-align: top;\n",
       "    }\n",
       "\n",
       "    .dataframe thead th {\n",
       "        text-align: right;\n",
       "    }\n",
       "</style>\n",
       "<table border=\"1\" class=\"dataframe\">\n",
       "  <thead>\n",
       "    <tr style=\"text-align: right;\">\n",
       "      <th></th>\n",
       "      <th>법규위법유형(%)</th>\n",
       "    </tr>\n",
       "  </thead>\n",
       "  <tbody>\n",
       "    <tr>\n",
       "      <th>안전운전 의무 불이행</th>\n",
       "      <td>56.964</td>\n",
       "    </tr>\n",
       "    <tr>\n",
       "      <th>보행자 보호의무 위반</th>\n",
       "      <td>21.142</td>\n",
       "    </tr>\n",
       "    <tr>\n",
       "      <th>신호위반</th>\n",
       "      <td>13.551</td>\n",
       "    </tr>\n",
       "    <tr>\n",
       "      <th>기타</th>\n",
       "      <td>7.120</td>\n",
       "    </tr>\n",
       "    <tr>\n",
       "      <th>중앙선 침범</th>\n",
       "      <td>0.941</td>\n",
       "    </tr>\n",
       "    <tr>\n",
       "      <th>교차로 통행방법 위반</th>\n",
       "      <td>0.125</td>\n",
       "    </tr>\n",
       "    <tr>\n",
       "      <th>과속</th>\n",
       "      <td>0.094</td>\n",
       "    </tr>\n",
       "    <tr>\n",
       "      <th>안전거리 미확보</th>\n",
       "      <td>0.063</td>\n",
       "    </tr>\n",
       "  </tbody>\n",
       "</table>\n",
       "</div>"
      ],
      "text/plain": [
       "             법규위법유형(%)\n",
       "안전운전 의무 불이행     56.964\n",
       "보행자 보호의무 위반     21.142\n",
       "신호위반            13.551\n",
       "기타               7.120\n",
       "중앙선 침범           0.941\n",
       "교차로 통행방법 위반      0.125\n",
       "과속               0.094\n",
       "안전거리 미확보         0.063"
      ]
     },
     "execution_count": 30,
     "metadata": {},
     "output_type": "execute_result"
    },
    {
     "data": {
      "text/plain": [
       "<Figure size 360x360 with 0 Axes>"
      ]
     },
     "execution_count": 30,
     "metadata": {},
     "output_type": "execute_result"
    },
    {
     "data": {
      "text/plain": [
       "(0.000, 70.000)"
      ]
     },
     "execution_count": 30,
     "metadata": {},
     "output_type": "execute_result"
    },
    {
     "data": {
      "text/plain": [
       "Text(0.5, 0, '<서울시 교통사고 가해자 법규위법 유형>')"
      ]
     },
     "execution_count": 30,
     "metadata": {},
     "output_type": "execute_result"
    },
    {
     "data": {
      "text/plain": [
       "Text(59, 0, '56.96%')"
      ]
     },
     "execution_count": 30,
     "metadata": {},
     "output_type": "execute_result"
    },
    {
     "data": {
      "text/plain": [
       "Text(23, 1, '21.14%')"
      ]
     },
     "execution_count": 30,
     "metadata": {},
     "output_type": "execute_result"
    },
    {
     "data": {
      "text/plain": [
       "Text(15, 2, '13.55%')"
      ]
     },
     "execution_count": 30,
     "metadata": {},
     "output_type": "execute_result"
    },
    {
     "data": {
      "text/plain": [
       "Text(9, 3, '7.12%')"
      ]
     },
     "execution_count": 30,
     "metadata": {},
     "output_type": "execute_result"
    },
    {
     "data": {
      "text/plain": [
       "Text(1.5, 4, '0.94%')"
      ]
     },
     "execution_count": 30,
     "metadata": {},
     "output_type": "execute_result"
    },
    {
     "data": {
      "text/plain": [
       "Text(1, 5, '0.12%')"
      ]
     },
     "execution_count": 30,
     "metadata": {},
     "output_type": "execute_result"
    },
    {
     "data": {
      "text/plain": [
       "Text(1, 6, '0.09%')"
      ]
     },
     "execution_count": 30,
     "metadata": {},
     "output_type": "execute_result"
    },
    {
     "data": {
      "text/plain": [
       "Text(1, 7, '0.06%')"
      ]
     },
     "execution_count": 30,
     "metadata": {},
     "output_type": "execute_result"
    },
    {
     "data": {
      "image/png": "[encoded data removed]",
      "text/plain": [
       "<Figure size 360x360 with 1 Axes>"
      ]
     },
     "metadata": {
      "needs_background": "light"
     },
     "output_type": "display_data"
    }
   ],
   "source": [
    "result2 = [speed, cross, kita, mamoru, singo, kyouri, gimu, choukou]\n",
    "result2.sort(reverse=True)\n",
    "result2\n",
    "result_sum=0\n",
    "for i in result2:\n",
    "    result_sum += i\n",
    "print(result_sum)\n",
    "result3 = []\n",
    "for j in result2:\n",
    "    x = j/result_sum * 100\n",
    "    result3.append(x)\n",
    "# print('result3 :', result3) \n",
    "result4 = np.round(result3, 3)\n",
    "# result4\n",
    "\n",
    "\n",
    "styleType = ['안전운전 의무 불이행', '보행자 보호의무 위반', '신호위반', '기타', '중앙선 침범', '교차로 통행방법 위반', '과속', '안전거리 미확보']\n",
    "\n",
    "df = pd.DataFrame(result4, index=styleType)\n",
    "df.columns = ['법규위법유형(%)']\n",
    "df\n",
    "\n",
    "colors = ['gold', '#ff9999', '#d395d0', '#8fd9b6', 'silver', 'lightgray', '#ffc000', 'whitesmoke']\n",
    "\n",
    "plt.figure(figsize=(5,5))\n",
    "ax = plt.barh(styleType, result4, color=colors)\n",
    "plt.xlim([0,70])\n",
    "plt.xlabel('<서울시 교통사고 가해자 법규위법 유형>')\n",
    "\n",
    "\n",
    "plt.text(59, 0, '56.96%')\n",
    "plt.text(23, 1, '21.14%')\n",
    "plt.text(15, 2, '13.55%')\n",
    "plt.text(9, 3, '7.12%')\n",
    "plt.text(1.5, 4, '0.94%')\n",
    "plt.text(1, 5, '0.12%')\n",
    "plt.text(1, 6, '0.09%')\n",
    "plt.text(1, 7, '0.06%')\n",
    "\n",
    "\n",
    "plt.show()"
   ]
  },
  {
   "cell_type": "code",
   "execution_count": 31,
   "id": "c60d844b",
   "metadata": {},
   "outputs": [
    {
     "data": {
      "text/html": [
       "<div>\n",
       "<style scoped>\n",
       "    .dataframe tbody tr th:only-of-type {\n",
       "        vertical-align: middle;\n",
       "    }\n",
       "\n",
       "    .dataframe tbody tr th {\n",
       "        vertical-align: top;\n",
       "    }\n",
       "\n",
       "    .dataframe thead th {\n",
       "        text-align: right;\n",
       "    }\n",
       "</style>\n",
       "<table border=\"1\" class=\"dataframe\">\n",
       "  <thead>\n",
       "    <tr style=\"text-align: right;\">\n",
       "      <th></th>\n",
       "      <th>발생일</th>\n",
       "      <th>발생시간</th>\n",
       "      <th>주야</th>\n",
       "      <th>요일</th>\n",
       "      <th>사망자수</th>\n",
       "      <th>중상자수</th>\n",
       "      <th>경상자수</th>\n",
       "      <th>부상신고자수</th>\n",
       "      <th>발생지_시도</th>\n",
       "      <th>발생지_시군구</th>\n",
       "      <th>사고유형_대분류</th>\n",
       "      <th>사고유형_중분류</th>\n",
       "      <th>사고유형</th>\n",
       "      <th>가해자법규위반</th>\n",
       "      <th>도로형태_대분류</th>\n",
       "      <th>도로형태</th>\n",
       "      <th>가해자_당사자종별</th>\n",
       "      <th>피해자_당사자종별</th>\n",
       "    </tr>\n",
       "  </thead>\n",
       "  <tbody>\n",
       "    <tr>\n",
       "      <th>72</th>\n",
       "      <td>2015-01-03</td>\n",
       "      <td>20</td>\n",
       "      <td>야</td>\n",
       "      <td>토</td>\n",
       "      <td>0</td>\n",
       "      <td>2</td>\n",
       "      <td>0</td>\n",
       "      <td>0</td>\n",
       "      <td>서울</td>\n",
       "      <td>구로구</td>\n",
       "      <td>차대사람</td>\n",
       "      <td>횡단중</td>\n",
       "      <td>횡단중</td>\n",
       "      <td>보행자 보호의무 위반</td>\n",
       "      <td>단일로</td>\n",
       "      <td>횡단보도상</td>\n",
       "      <td>승용차</td>\n",
       "      <td>보행자</td>\n",
       "    </tr>\n",
       "    <tr>\n",
       "      <th>96</th>\n",
       "      <td>2015-01-05</td>\n",
       "      <td>9</td>\n",
       "      <td>주</td>\n",
       "      <td>월</td>\n",
       "      <td>0</td>\n",
       "      <td>0</td>\n",
       "      <td>0</td>\n",
       "      <td>1</td>\n",
       "      <td>서울</td>\n",
       "      <td>동작구</td>\n",
       "      <td>차대사람</td>\n",
       "      <td>횡단중</td>\n",
       "      <td>횡단중</td>\n",
       "      <td>신호위반</td>\n",
       "      <td>교차로</td>\n",
       "      <td>교차로내</td>\n",
       "      <td>승합차</td>\n",
       "      <td>보행자</td>\n",
       "    </tr>\n",
       "    <tr>\n",
       "      <th>107</th>\n",
       "      <td>2015-01-05</td>\n",
       "      <td>17</td>\n",
       "      <td>주</td>\n",
       "      <td>월</td>\n",
       "      <td>0</td>\n",
       "      <td>0</td>\n",
       "      <td>1</td>\n",
       "      <td>0</td>\n",
       "      <td>서울</td>\n",
       "      <td>금천구</td>\n",
       "      <td>차대사람</td>\n",
       "      <td>기타</td>\n",
       "      <td>기타</td>\n",
       "      <td>안전운전 의무 불이행</td>\n",
       "      <td>단일로</td>\n",
       "      <td>기타단일로</td>\n",
       "      <td>승합차</td>\n",
       "      <td>보행자</td>\n",
       "    </tr>\n",
       "    <tr>\n",
       "      <th>129</th>\n",
       "      <td>2015-01-06</td>\n",
       "      <td>15</td>\n",
       "      <td>주</td>\n",
       "      <td>화</td>\n",
       "      <td>0</td>\n",
       "      <td>0</td>\n",
       "      <td>1</td>\n",
       "      <td>0</td>\n",
       "      <td>서울</td>\n",
       "      <td>강남구</td>\n",
       "      <td>차대사람</td>\n",
       "      <td>횡단중</td>\n",
       "      <td>횡단중</td>\n",
       "      <td>보행자 보호의무 위반</td>\n",
       "      <td>단일로</td>\n",
       "      <td>기타단일로</td>\n",
       "      <td>승용차</td>\n",
       "      <td>보행자</td>\n",
       "    </tr>\n",
       "    <tr>\n",
       "      <th>137</th>\n",
       "      <td>2015-01-07</td>\n",
       "      <td>9</td>\n",
       "      <td>주</td>\n",
       "      <td>수</td>\n",
       "      <td>0</td>\n",
       "      <td>0</td>\n",
       "      <td>1</td>\n",
       "      <td>0</td>\n",
       "      <td>서울</td>\n",
       "      <td>구로구</td>\n",
       "      <td>차대사람</td>\n",
       "      <td>횡단중</td>\n",
       "      <td>횡단중</td>\n",
       "      <td>신호위반</td>\n",
       "      <td>단일로</td>\n",
       "      <td>횡단보도상</td>\n",
       "      <td>승용차</td>\n",
       "      <td>보행자</td>\n",
       "    </tr>\n",
       "    <tr>\n",
       "      <th>...</th>\n",
       "      <td>...</td>\n",
       "      <td>...</td>\n",
       "      <td>...</td>\n",
       "      <td>...</td>\n",
       "      <td>...</td>\n",
       "      <td>...</td>\n",
       "      <td>...</td>\n",
       "      <td>...</td>\n",
       "      <td>...</td>\n",
       "      <td>...</td>\n",
       "      <td>...</td>\n",
       "      <td>...</td>\n",
       "      <td>...</td>\n",
       "      <td>...</td>\n",
       "      <td>...</td>\n",
       "      <td>...</td>\n",
       "      <td>...</td>\n",
       "      <td>...</td>\n",
       "    </tr>\n",
       "    <tr>\n",
       "      <th>55382</th>\n",
       "      <td>2019-12-28</td>\n",
       "      <td>14</td>\n",
       "      <td>주</td>\n",
       "      <td>토</td>\n",
       "      <td>0</td>\n",
       "      <td>0</td>\n",
       "      <td>0</td>\n",
       "      <td>1</td>\n",
       "      <td>서울</td>\n",
       "      <td>마포구</td>\n",
       "      <td>차대사람</td>\n",
       "      <td>횡단중</td>\n",
       "      <td>횡단중</td>\n",
       "      <td>중앙선 침범</td>\n",
       "      <td>교차로</td>\n",
       "      <td>교차로부근</td>\n",
       "      <td>이륜차</td>\n",
       "      <td>보행자</td>\n",
       "    </tr>\n",
       "    <tr>\n",
       "      <th>55426</th>\n",
       "      <td>2019-12-30</td>\n",
       "      <td>6</td>\n",
       "      <td>주</td>\n",
       "      <td>월</td>\n",
       "      <td>0</td>\n",
       "      <td>0</td>\n",
       "      <td>0</td>\n",
       "      <td>1</td>\n",
       "      <td>서울</td>\n",
       "      <td>은평구</td>\n",
       "      <td>차대사람</td>\n",
       "      <td>횡단중</td>\n",
       "      <td>횡단중</td>\n",
       "      <td>신호위반</td>\n",
       "      <td>교차로</td>\n",
       "      <td>교차로횡단보도내</td>\n",
       "      <td>이륜차</td>\n",
       "      <td>보행자</td>\n",
       "    </tr>\n",
       "    <tr>\n",
       "      <th>55432</th>\n",
       "      <td>2019-12-30</td>\n",
       "      <td>13</td>\n",
       "      <td>주</td>\n",
       "      <td>월</td>\n",
       "      <td>0</td>\n",
       "      <td>0</td>\n",
       "      <td>1</td>\n",
       "      <td>0</td>\n",
       "      <td>서울</td>\n",
       "      <td>강남구</td>\n",
       "      <td>차대사람</td>\n",
       "      <td>기타</td>\n",
       "      <td>기타</td>\n",
       "      <td>기타</td>\n",
       "      <td>교차로</td>\n",
       "      <td>교차로부근</td>\n",
       "      <td>승용차</td>\n",
       "      <td>보행자</td>\n",
       "    </tr>\n",
       "    <tr>\n",
       "      <th>55454</th>\n",
       "      <td>2019-12-31</td>\n",
       "      <td>10</td>\n",
       "      <td>주</td>\n",
       "      <td>화</td>\n",
       "      <td>0</td>\n",
       "      <td>0</td>\n",
       "      <td>0</td>\n",
       "      <td>1</td>\n",
       "      <td>서울</td>\n",
       "      <td>강서구</td>\n",
       "      <td>차대사람</td>\n",
       "      <td>기타</td>\n",
       "      <td>기타</td>\n",
       "      <td>안전운전 의무 불이행</td>\n",
       "      <td>교차로</td>\n",
       "      <td>교차로내</td>\n",
       "      <td>승용차</td>\n",
       "      <td>보행자</td>\n",
       "    </tr>\n",
       "    <tr>\n",
       "      <th>55460</th>\n",
       "      <td>2019-12-31</td>\n",
       "      <td>14</td>\n",
       "      <td>주</td>\n",
       "      <td>화</td>\n",
       "      <td>0</td>\n",
       "      <td>0</td>\n",
       "      <td>0</td>\n",
       "      <td>1</td>\n",
       "      <td>서울</td>\n",
       "      <td>노원구</td>\n",
       "      <td>차대사람</td>\n",
       "      <td>횡단중</td>\n",
       "      <td>횡단중</td>\n",
       "      <td>보행자 보호의무 위반</td>\n",
       "      <td>교차로</td>\n",
       "      <td>교차로내</td>\n",
       "      <td>화물차</td>\n",
       "      <td>보행자</td>\n",
       "    </tr>\n",
       "  </tbody>\n",
       "</table>\n",
       "<p>3188 rows × 18 columns</p>\n",
       "</div>"
      ],
      "text/plain": [
       "              발생일  발생시간 주야 요일  사망자수  중상자수  경상자수  부상신고자수 발생지_시도 발생지_시군구  \\\n",
       "72     2015-01-03    20  야  토     0     2     0       0     서울     구로구   \n",
       "96     2015-01-05     9  주  월     0     0     0       1     서울     동작구   \n",
       "107    2015-01-05    17  주  월     0     0     1       0     서울     금천구   \n",
       "129    2015-01-06    15  주  화     0     0     1       0     서울     강남구   \n",
       "137    2015-01-07     9  주  수     0     0     1       0     서울     구로구   \n",
       "...           ...   ... .. ..   ...   ...   ...     ...    ...     ...   \n",
       "55382  2019-12-28    14  주  토     0     0     0       1     서울     마포구   \n",
       "55426  2019-12-30     6  주  월     0     0     0       1     서울     은평구   \n",
       "55432  2019-12-30    13  주  월     0     0     1       0     서울     강남구   \n",
       "55454  2019-12-31    10  주  화     0     0     0       1     서울     강서구   \n",
       "55460  2019-12-31    14  주  화     0     0     0       1     서울     노원구   \n",
       "\n",
       "      사고유형_대분류 사고유형_중분류 사고유형      가해자법규위반 도로형태_대분류      도로형태 가해자_당사자종별  \\\n",
       "72        차대사람      횡단중  횡단중  보행자 보호의무 위반      단일로     횡단보도상       승용차   \n",
       "96        차대사람      횡단중  횡단중         신호위반      교차로      교차로내       승합차   \n",
       "107       차대사람       기타   기타  안전운전 의무 불이행      단일로     기타단일로       승합차   \n",
       "129       차대사람      횡단중  횡단중  보행자 보호의무 위반      단일로     기타단일로       승용차   \n",
       "137       차대사람      횡단중  횡단중         신호위반      단일로     횡단보도상       승용차   \n",
       "...        ...      ...  ...          ...      ...       ...       ...   \n",
       "55382     차대사람      횡단중  횡단중       중앙선 침범      교차로     교차로부근       이륜차   \n",
       "55426     차대사람      횡단중  횡단중         신호위반      교차로  교차로횡단보도내       이륜차   \n",
       "55432     차대사람       기타   기타           기타      교차로     교차로부근       승용차   \n",
       "55454     차대사람       기타   기타  안전운전 의무 불이행      교차로      교차로내       승용차   \n",
       "55460     차대사람      횡단중  횡단중  보행자 보호의무 위반      교차로      교차로내       화물차   \n",
       "\n",
       "      피해자_당사자종별  \n",
       "72          보행자  \n",
       "96          보행자  \n",
       "107         보행자  \n",
       "129         보행자  \n",
       "137         보행자  \n",
       "...         ...  \n",
       "55382       보행자  \n",
       "55426       보행자  \n",
       "55432       보행자  \n",
       "55454       보행자  \n",
       "55460       보행자  \n",
       "\n",
       "[3188 rows x 18 columns]"
      ]
     },
     "execution_count": 31,
     "metadata": {},
     "output_type": "execute_result"
    }
   ],
   "source": [
    "data_a"
   ]
  },
  {
   "cell_type": "code",
   "execution_count": 44,
   "id": "c89b86af",
   "metadata": {},
   "outputs": [
    {
     "data": {
      "text/plain": [
       "['2015-01-03',\n",
       " '2015-01-05',\n",
       " '2015-01-05',\n",
       " '2015-01-06',\n",
       " '2015-01-07',\n",
       " '2015-01-09',\n",
       " '2015-01-10',\n",
       " '2015-01-12',\n",
       " '2015-01-14',\n",
       " '2015-01-14',\n",
       " '2015-01-14',\n",
       " '2015-01-14',\n",
       " '2015-01-15',\n",
       " '2015-01-15',\n",
       " '2015-01-16',\n",
       " '2015-01-17',\n",
       " '2015-01-17',\n",
       " '2015-01-19',\n",
       " '2015-01-19',\n",
       " '2015-01-20',\n",
       " '2015-01-21',\n",
       " '2015-01-21',\n",
       " '2015-01-22',\n",
       " '2015-01-22',\n",
       " '2015-01-22',\n",
       " '2015-01-22',\n",
       " '2015-01-23',\n",
       " '2015-01-23',\n",
       " '2015-01-26',\n",
       " '2015-01-26',\n",
       " '2015-01-27',\n",
       " '2015-01-27',\n",
       " '2015-01-28',\n",
       " '2015-01-28',\n",
       " '2015-01-29',\n",
       " '2015-01-30',\n",
       " '2015-01-31',\n",
       " '2015-02-02',\n",
       " '2015-02-03',\n",
       " '2015-02-04',\n",
       " '2015-02-04',\n",
       " '2015-02-05',\n",
       " '2015-02-06',\n",
       " '2015-02-07',\n",
       " '2015-02-07',\n",
       " '2015-02-07',\n",
       " '2015-02-08',\n",
       " '2015-02-08',\n",
       " '2015-02-08',\n",
       " '2015-02-08',\n",
       " '2015-02-09',\n",
       " '2015-02-10',\n",
       " '2015-02-10',\n",
       " '2015-02-12',\n",
       " '2015-02-12',\n",
       " '2015-02-12',\n",
       " '2015-02-13',\n",
       " '2015-02-13',\n",
       " '2015-02-13',\n",
       " '2015-02-14',\n",
       " '2015-02-16',\n",
       " '2015-02-17',\n",
       " '2015-02-17',\n",
       " '2015-02-21',\n",
       " '2015-02-22',\n",
       " '2015-02-23',\n",
       " '2015-02-23',\n",
       " '2015-02-24',\n",
       " '2015-02-24',\n",
       " '2015-02-24',\n",
       " '2015-02-26',\n",
       " '2015-02-26',\n",
       " '2015-02-26',\n",
       " '2015-02-26',\n",
       " '2015-02-27',\n",
       " '2015-02-27',\n",
       " '2015-03-01',\n",
       " '2015-03-01',\n",
       " '2015-03-02',\n",
       " '2015-03-02',\n",
       " '2015-03-02',\n",
       " '2015-03-03',\n",
       " '2015-03-04',\n",
       " '2015-03-04',\n",
       " '2015-03-04',\n",
       " '2015-03-05',\n",
       " '2015-03-05',\n",
       " '2015-03-06',\n",
       " '2015-03-06',\n",
       " '2015-03-06',\n",
       " '2015-03-06',\n",
       " '2015-03-06',\n",
       " '2015-03-06',\n",
       " '2015-03-07',\n",
       " '2015-03-07',\n",
       " '2015-03-09',\n",
       " '2015-03-09',\n",
       " '2015-03-09',\n",
       " '2015-03-09',\n",
       " '2015-03-10',\n",
       " '2015-03-10',\n",
       " '2015-03-11',\n",
       " '2015-03-11',\n",
       " '2015-03-11',\n",
       " '2015-03-11',\n",
       " '2015-03-12',\n",
       " '2015-03-12',\n",
       " '2015-03-13',\n",
       " '2015-03-13',\n",
       " '2015-03-14',\n",
       " '2015-03-14',\n",
       " '2015-03-14',\n",
       " '2015-03-16',\n",
       " '2015-03-16',\n",
       " '2015-03-16',\n",
       " '2015-03-18',\n",
       " '2015-03-19',\n",
       " '2015-03-19',\n",
       " '2015-03-19',\n",
       " '2015-03-19',\n",
       " '2015-03-19',\n",
       " '2015-03-20',\n",
       " '2015-03-20',\n",
       " '2015-03-20',\n",
       " '2015-03-21',\n",
       " '2015-03-21',\n",
       " '2015-03-21',\n",
       " '2015-03-21',\n",
       " '2015-03-22',\n",
       " '2015-03-23',\n",
       " '2015-03-23',\n",
       " '2015-03-23',\n",
       " '2015-03-23',\n",
       " '2015-03-24',\n",
       " '2015-03-25',\n",
       " '2015-03-26',\n",
       " '2015-03-26',\n",
       " '2015-03-26',\n",
       " '2015-03-27',\n",
       " '2015-03-27',\n",
       " '2015-03-27',\n",
       " '2015-03-27',\n",
       " '2015-03-27',\n",
       " '2015-03-27',\n",
       " '2015-03-30',\n",
       " '2015-03-30',\n",
       " '2015-03-30',\n",
       " '2015-03-30',\n",
       " '2015-04-01',\n",
       " '2015-04-01',\n",
       " '2015-04-02',\n",
       " '2015-04-02',\n",
       " '2015-04-02',\n",
       " '2015-04-03',\n",
       " '2015-04-03',\n",
       " '2015-04-03',\n",
       " '2015-04-05',\n",
       " '2015-04-05',\n",
       " '2015-04-05',\n",
       " '2015-04-06',\n",
       " '2015-04-06',\n",
       " '2015-04-06',\n",
       " '2015-04-07',\n",
       " '2015-04-07',\n",
       " '2015-04-07',\n",
       " '2015-04-08',\n",
       " '2015-04-08',\n",
       " '2015-04-08',\n",
       " '2015-04-10',\n",
       " '2015-04-10',\n",
       " '2015-04-11',\n",
       " '2015-04-11',\n",
       " '2015-04-11',\n",
       " '2015-04-11',\n",
       " '2015-04-12',\n",
       " '2015-04-12',\n",
       " '2015-04-12',\n",
       " '2015-04-13',\n",
       " '2015-04-14',\n",
       " '2015-04-15',\n",
       " '2015-04-15',\n",
       " '2015-04-15',\n",
       " '2015-04-16',\n",
       " '2015-04-17',\n",
       " '2015-04-17',\n",
       " '2015-04-17',\n",
       " '2015-04-17',\n",
       " '2015-04-18',\n",
       " '2015-04-18',\n",
       " '2015-04-18',\n",
       " '2015-04-20',\n",
       " '2015-04-21',\n",
       " '2015-04-22',\n",
       " '2015-04-22',\n",
       " '2015-04-22',\n",
       " '2015-04-23',\n",
       " '2015-04-23',\n",
       " '2015-04-24',\n",
       " '2015-04-25',\n",
       " '2015-04-25',\n",
       " '2015-04-26',\n",
       " '2015-04-26',\n",
       " '2015-04-26',\n",
       " '2015-04-26',\n",
       " '2015-04-27',\n",
       " '2015-04-27',\n",
       " '2015-04-27',\n",
       " '2015-04-28',\n",
       " '2015-04-28',\n",
       " '2015-04-28',\n",
       " '2015-04-29',\n",
       " '2015-04-30',\n",
       " '2015-04-30',\n",
       " '2015-05-01',\n",
       " '2015-05-02',\n",
       " '2015-05-02',\n",
       " '2015-05-02',\n",
       " '2015-05-02',\n",
       " '2015-05-02',\n",
       " '2015-05-03',\n",
       " '2015-05-03',\n",
       " '2015-05-03',\n",
       " '2015-05-04',\n",
       " '2015-05-05',\n",
       " '2015-05-05',\n",
       " '2015-05-06',\n",
       " '2015-05-06',\n",
       " '2015-05-07',\n",
       " '2015-05-08',\n",
       " '2015-05-08',\n",
       " '2015-05-08',\n",
       " '2015-05-08',\n",
       " '2015-05-08',\n",
       " '2015-05-09',\n",
       " '2015-05-09',\n",
       " '2015-05-09',\n",
       " '2015-05-10',\n",
       " '2015-05-10',\n",
       " '2015-05-10',\n",
       " '2015-05-11',\n",
       " '2015-05-11',\n",
       " '2015-05-12',\n",
       " '2015-05-13',\n",
       " '2015-05-13',\n",
       " '2015-05-13',\n",
       " '2015-05-13',\n",
       " '2015-05-13',\n",
       " '2015-05-13',\n",
       " '2015-05-13',\n",
       " '2015-05-14',\n",
       " '2015-05-14',\n",
       " '2015-05-14',\n",
       " '2015-05-14',\n",
       " '2015-05-14',\n",
       " '2015-05-15',\n",
       " '2015-05-15',\n",
       " '2015-05-15',\n",
       " '2015-05-16',\n",
       " '2015-05-16',\n",
       " '2015-05-17',\n",
       " '2015-05-17',\n",
       " '2015-05-17',\n",
       " '2015-05-17',\n",
       " '2015-05-18',\n",
       " '2015-05-18',\n",
       " '2015-05-18',\n",
       " '2015-05-18',\n",
       " '2015-05-19',\n",
       " '2015-05-19',\n",
       " '2015-05-19',\n",
       " '2015-05-19',\n",
       " '2015-05-20',\n",
       " '2015-05-20',\n",
       " '2015-05-21',\n",
       " '2015-05-21',\n",
       " '2015-05-22',\n",
       " '2015-05-22',\n",
       " '2015-05-22',\n",
       " '2015-05-22',\n",
       " '2015-05-22',\n",
       " '2015-05-22',\n",
       " '2015-05-22',\n",
       " '2015-05-23',\n",
       " '2015-05-23',\n",
       " '2015-05-24',\n",
       " '2015-05-24',\n",
       " '2015-05-24',\n",
       " '2015-05-25',\n",
       " '2015-05-26',\n",
       " '2015-05-26',\n",
       " '2015-05-27',\n",
       " '2015-05-28',\n",
       " '2015-05-28',\n",
       " '2015-05-28',\n",
       " '2015-05-29',\n",
       " '2015-05-29',\n",
       " '2015-05-29',\n",
       " '2015-05-29',\n",
       " '2015-05-30',\n",
       " '2015-05-30',\n",
       " '2015-05-31',\n",
       " '2015-05-31',\n",
       " '2015-06-01',\n",
       " '2015-06-01',\n",
       " '2015-06-01',\n",
       " '2015-06-01',\n",
       " '2015-06-02',\n",
       " '2015-06-02',\n",
       " '2015-06-02',\n",
       " '2015-06-02',\n",
       " '2015-06-02',\n",
       " '2015-06-03',\n",
       " '2015-06-03',\n",
       " '2015-06-03',\n",
       " '2015-06-03',\n",
       " '2015-06-03',\n",
       " '2015-06-04',\n",
       " '2015-06-04',\n",
       " '2015-06-04',\n",
       " '2015-06-05',\n",
       " '2015-06-05',\n",
       " '2015-06-05',\n",
       " '2015-06-05',\n",
       " '2015-06-05',\n",
       " '2015-06-06',\n",
       " '2015-06-06',\n",
       " '2015-06-07',\n",
       " '2015-06-08',\n",
       " '2015-06-09',\n",
       " '2015-06-09',\n",
       " '2015-06-09',\n",
       " '2015-06-10',\n",
       " '2015-06-10',\n",
       " '2015-06-11',\n",
       " '2015-06-11',\n",
       " '2015-06-11',\n",
       " '2015-06-11',\n",
       " '2015-06-12',\n",
       " '2015-06-12',\n",
       " '2015-06-13',\n",
       " '2015-06-13',\n",
       " '2015-06-15',\n",
       " '2015-06-15',\n",
       " '2015-06-16',\n",
       " '2015-06-16',\n",
       " '2015-06-16',\n",
       " '2015-06-16',\n",
       " '2015-06-17',\n",
       " '2015-06-17',\n",
       " '2015-06-18',\n",
       " '2015-06-18',\n",
       " '2015-06-18',\n",
       " '2015-06-19',\n",
       " '2015-06-19',\n",
       " '2015-06-19',\n",
       " '2015-06-19',\n",
       " '2015-06-20',\n",
       " '2015-06-21',\n",
       " '2015-06-21',\n",
       " '2015-06-22',\n",
       " '2015-06-22',\n",
       " '2015-06-23',\n",
       " '2015-06-24',\n",
       " '2015-06-24',\n",
       " '2015-06-24',\n",
       " '2015-06-24',\n",
       " '2015-06-24',\n",
       " '2015-06-25',\n",
       " '2015-06-25',\n",
       " '2015-06-25',\n",
       " '2015-06-26',\n",
       " '2015-06-26',\n",
       " '2015-06-26',\n",
       " '2015-06-27',\n",
       " '2015-06-27',\n",
       " '2015-06-27',\n",
       " '2015-06-29',\n",
       " '2015-06-29',\n",
       " '2015-06-29',\n",
       " '2015-07-01',\n",
       " '2015-07-02',\n",
       " '2015-07-02',\n",
       " '2015-07-02',\n",
       " '2015-07-04',\n",
       " '2015-07-04',\n",
       " '2015-07-05',\n",
       " '2015-07-07',\n",
       " '2015-07-07',\n",
       " '2015-07-07',\n",
       " '2015-07-07',\n",
       " '2015-07-07',\n",
       " '2015-07-08',\n",
       " '2015-07-08',\n",
       " '2015-07-10',\n",
       " '2015-07-11',\n",
       " '2015-07-11',\n",
       " '2015-07-11',\n",
       " '2015-07-11',\n",
       " '2015-07-11',\n",
       " '2015-07-13',\n",
       " '2015-07-13',\n",
       " '2015-07-14',\n",
       " '2015-07-14',\n",
       " '2015-07-14',\n",
       " '2015-07-15',\n",
       " '2015-07-15',\n",
       " '2015-07-15',\n",
       " '2015-07-16',\n",
       " '2015-07-16',\n",
       " '2015-07-16',\n",
       " '2015-07-17',\n",
       " '2015-07-17',\n",
       " '2015-07-17',\n",
       " '2015-07-17',\n",
       " '2015-07-18',\n",
       " '2015-07-18',\n",
       " '2015-07-18',\n",
       " '2015-07-18',\n",
       " '2015-07-19',\n",
       " '2015-07-19',\n",
       " '2015-07-19',\n",
       " '2015-07-19',\n",
       " '2015-07-19',\n",
       " '2015-07-19',\n",
       " '2015-07-22',\n",
       " '2015-07-22',\n",
       " '2015-07-22',\n",
       " '2015-07-22',\n",
       " '2015-07-22',\n",
       " '2015-07-23',\n",
       " '2015-07-23',\n",
       " '2015-07-23',\n",
       " '2015-07-24',\n",
       " '2015-07-24',\n",
       " '2015-07-27',\n",
       " '2015-07-27',\n",
       " '2015-07-27',\n",
       " '2015-07-27',\n",
       " '2015-07-28',\n",
       " '2015-07-28',\n",
       " '2015-07-28',\n",
       " '2015-07-28',\n",
       " '2015-07-29',\n",
       " '2015-07-30',\n",
       " '2015-07-31',\n",
       " '2015-08-02',\n",
       " '2015-08-03',\n",
       " '2015-08-03',\n",
       " '2015-08-05',\n",
       " '2015-08-06',\n",
       " '2015-08-06',\n",
       " '2015-08-07',\n",
       " '2015-08-07',\n",
       " '2015-08-09',\n",
       " '2015-08-09',\n",
       " '2015-08-10',\n",
       " '2015-08-10',\n",
       " '2015-08-10',\n",
       " '2015-08-11',\n",
       " '2015-08-11',\n",
       " '2015-08-11',\n",
       " '2015-08-11',\n",
       " '2015-08-11',\n",
       " '2015-08-11',\n",
       " '2015-08-12',\n",
       " '2015-08-12',\n",
       " '2015-08-12',\n",
       " '2015-08-12',\n",
       " '2015-08-13',\n",
       " '2015-08-13',\n",
       " '2015-08-13',\n",
       " '2015-08-15',\n",
       " '2015-08-15',\n",
       " '2015-08-16',\n",
       " '2015-08-16',\n",
       " '2015-08-16',\n",
       " '2015-08-17',\n",
       " '2015-08-17',\n",
       " '2015-08-17',\n",
       " '2015-08-18',\n",
       " '2015-08-18',\n",
       " '2015-08-18',\n",
       " '2015-08-20',\n",
       " '2015-08-20',\n",
       " '2015-08-20',\n",
       " '2015-08-20',\n",
       " '2015-08-21',\n",
       " '2015-08-21',\n",
       " '2015-08-21',\n",
       " '2015-08-21',\n",
       " '2015-08-21',\n",
       " '2015-08-21',\n",
       " '2015-08-21',\n",
       " '2015-08-21',\n",
       " '2015-08-22',\n",
       " '2015-08-23',\n",
       " '2015-08-23',\n",
       " '2015-08-23',\n",
       " '2015-08-23',\n",
       " '2015-08-24',\n",
       " '2015-08-26',\n",
       " '2015-08-26',\n",
       " '2015-08-26',\n",
       " '2015-08-26',\n",
       " '2015-08-26',\n",
       " '2015-08-26',\n",
       " '2015-08-27',\n",
       " '2015-08-27',\n",
       " '2015-08-27',\n",
       " '2015-08-28',\n",
       " '2015-08-28',\n",
       " '2015-08-28',\n",
       " '2015-08-28',\n",
       " '2015-08-29',\n",
       " '2015-08-31',\n",
       " '2015-08-31',\n",
       " '2015-08-31',\n",
       " '2015-09-01',\n",
       " '2015-09-01',\n",
       " '2015-09-01',\n",
       " '2015-09-02',\n",
       " '2015-09-02',\n",
       " '2015-09-02',\n",
       " '2015-09-03',\n",
       " '2015-09-03',\n",
       " '2015-09-04',\n",
       " '2015-09-04',\n",
       " '2015-09-07',\n",
       " '2015-09-07',\n",
       " '2015-09-08',\n",
       " '2015-09-08',\n",
       " '2015-09-09',\n",
       " '2015-09-09',\n",
       " '2015-09-09',\n",
       " '2015-09-09',\n",
       " '2015-09-09',\n",
       " '2015-09-10',\n",
       " '2015-09-10',\n",
       " '2015-09-11',\n",
       " '2015-09-11',\n",
       " '2015-09-12',\n",
       " '2015-09-12',\n",
       " '2015-09-13',\n",
       " '2015-09-13',\n",
       " '2015-09-14',\n",
       " '2015-09-15',\n",
       " '2015-09-15',\n",
       " '2015-09-16',\n",
       " '2015-09-16',\n",
       " '2015-09-16',\n",
       " '2015-09-17',\n",
       " '2015-09-17',\n",
       " '2015-09-17',\n",
       " '2015-09-17',\n",
       " '2015-09-17',\n",
       " '2015-09-18',\n",
       " '2015-09-18',\n",
       " '2015-09-20',\n",
       " '2015-09-21',\n",
       " '2015-09-21',\n",
       " '2015-09-22',\n",
       " '2015-09-22',\n",
       " '2015-09-23',\n",
       " '2015-09-23',\n",
       " '2015-09-24',\n",
       " '2015-09-25',\n",
       " '2015-09-25',\n",
       " '2015-09-25',\n",
       " '2015-09-25',\n",
       " '2015-09-26',\n",
       " '2015-09-27',\n",
       " '2015-09-28',\n",
       " '2015-10-01',\n",
       " '2015-10-01',\n",
       " '2015-10-02',\n",
       " '2015-10-02',\n",
       " '2015-10-03',\n",
       " '2015-10-03',\n",
       " '2015-10-03',\n",
       " '2015-10-04',\n",
       " '2015-10-04',\n",
       " '2015-10-04',\n",
       " '2015-10-04',\n",
       " '2015-10-05',\n",
       " '2015-10-06',\n",
       " '2015-10-06',\n",
       " '2015-10-06',\n",
       " '2015-10-06',\n",
       " '2015-10-06',\n",
       " '2015-10-07',\n",
       " '2015-10-07',\n",
       " '2015-10-08',\n",
       " '2015-10-08',\n",
       " '2015-10-08',\n",
       " '2015-10-09',\n",
       " '2015-10-09',\n",
       " '2015-10-10',\n",
       " '2015-10-11',\n",
       " '2015-10-12',\n",
       " '2015-10-12',\n",
       " '2015-10-12',\n",
       " '2015-10-12',\n",
       " '2015-10-13',\n",
       " '2015-10-13',\n",
       " '2015-10-15',\n",
       " '2015-10-16',\n",
       " '2015-10-16',\n",
       " '2015-10-17',\n",
       " '2015-10-18',\n",
       " '2015-10-18',\n",
       " '2015-10-18',\n",
       " '2015-10-19',\n",
       " '2015-10-20',\n",
       " '2015-10-20',\n",
       " '2015-10-20',\n",
       " '2015-10-20',\n",
       " '2015-10-20',\n",
       " '2015-10-21',\n",
       " '2015-10-21',\n",
       " '2015-10-21',\n",
       " '2015-10-21',\n",
       " '2015-10-23',\n",
       " '2015-10-23',\n",
       " '2015-10-23',\n",
       " '2015-10-23',\n",
       " '2015-10-24',\n",
       " '2015-10-24',\n",
       " '2015-10-24',\n",
       " '2015-10-24',\n",
       " '2015-10-25',\n",
       " '2015-10-26',\n",
       " '2015-10-26',\n",
       " '2015-10-27',\n",
       " '2015-10-28',\n",
       " '2015-10-30',\n",
       " '2015-10-30',\n",
       " '2015-10-30',\n",
       " '2015-10-30',\n",
       " '2015-10-31',\n",
       " '2015-10-31',\n",
       " '2015-10-31',\n",
       " '2015-10-31',\n",
       " '2015-11-04',\n",
       " '2015-11-04',\n",
       " '2015-11-04',\n",
       " '2015-11-05',\n",
       " '2015-11-06',\n",
       " '2015-11-10',\n",
       " '2015-11-10',\n",
       " '2015-11-10',\n",
       " '2015-11-10',\n",
       " '2015-11-10',\n",
       " '2015-11-12',\n",
       " '2015-11-12',\n",
       " '2015-11-12',\n",
       " '2015-11-12',\n",
       " '2015-11-13',\n",
       " '2015-11-13',\n",
       " '2015-11-15',\n",
       " '2015-11-15',\n",
       " '2015-11-16',\n",
       " '2015-11-17',\n",
       " '2015-11-17',\n",
       " '2015-11-18',\n",
       " '2015-11-18',\n",
       " '2015-11-19',\n",
       " '2015-11-19',\n",
       " '2015-11-22',\n",
       " '2015-11-23',\n",
       " '2015-11-23',\n",
       " '2015-11-23',\n",
       " '2015-11-23',\n",
       " '2015-11-24',\n",
       " '2015-11-24',\n",
       " '2015-11-24',\n",
       " '2015-11-25',\n",
       " '2015-11-26',\n",
       " '2015-11-26',\n",
       " '2015-11-27',\n",
       " '2015-11-27',\n",
       " '2015-11-29',\n",
       " '2015-11-30',\n",
       " '2015-11-30',\n",
       " '2015-11-30',\n",
       " '2015-12-01',\n",
       " '2015-12-01',\n",
       " '2015-12-01',\n",
       " '2015-12-01',\n",
       " '2015-12-01',\n",
       " '2015-12-02',\n",
       " '2015-12-02',\n",
       " '2015-12-03',\n",
       " '2015-12-04',\n",
       " '2015-12-04',\n",
       " '2015-12-04',\n",
       " '2015-12-04',\n",
       " '2015-12-04',\n",
       " '2015-12-04',\n",
       " '2015-12-05',\n",
       " '2015-12-05',\n",
       " '2015-12-06',\n",
       " '2015-12-07',\n",
       " '2015-12-07',\n",
       " '2015-12-07',\n",
       " '2015-12-07',\n",
       " '2015-12-09',\n",
       " '2015-12-10',\n",
       " '2015-12-10',\n",
       " '2015-12-11',\n",
       " '2015-12-12',\n",
       " '2015-12-12',\n",
       " '2015-12-14',\n",
       " '2015-12-14',\n",
       " '2015-12-14',\n",
       " '2015-12-14',\n",
       " '2015-12-14',\n",
       " '2015-12-15',\n",
       " '2015-12-15',\n",
       " '2015-12-16',\n",
       " '2015-12-16',\n",
       " '2015-12-17',\n",
       " '2015-12-18',\n",
       " '2015-12-20',\n",
       " '2015-12-22',\n",
       " '2015-12-22',\n",
       " '2015-12-23',\n",
       " '2015-12-24',\n",
       " '2015-12-25',\n",
       " '2015-12-25',\n",
       " '2015-12-26',\n",
       " '2015-12-27',\n",
       " '2015-12-29',\n",
       " '2015-12-31',\n",
       " '2015-12-31',\n",
       " '2016-01-01',\n",
       " '2016-01-04',\n",
       " '2016-01-05',\n",
       " '2016-01-06',\n",
       " '2016-01-06',\n",
       " '2016-01-08',\n",
       " '2016-01-09',\n",
       " '2016-01-09',\n",
       " '2016-01-10',\n",
       " '2016-01-10',\n",
       " '2016-01-11',\n",
       " '2016-01-12',\n",
       " '2016-01-14',\n",
       " '2016-01-15',\n",
       " '2016-01-17',\n",
       " '2016-01-17',\n",
       " '2016-01-18',\n",
       " '2016-01-18',\n",
       " '2016-01-19',\n",
       " '2016-01-19',\n",
       " '2016-01-20',\n",
       " '2016-01-21',\n",
       " '2016-01-21',\n",
       " '2016-01-22',\n",
       " '2016-01-25',\n",
       " '2016-01-26',\n",
       " '2016-01-26',\n",
       " '2016-01-27',\n",
       " '2016-01-28',\n",
       " '2016-01-28',\n",
       " '2016-01-29',\n",
       " '2016-01-31',\n",
       " '2016-02-01',\n",
       " '2016-02-01',\n",
       " '2016-02-02',\n",
       " '2016-02-03',\n",
       " '2016-02-03',\n",
       " '2016-02-03',\n",
       " '2016-02-04',\n",
       " '2016-02-07',\n",
       " '2016-02-08',\n",
       " '2016-02-10',\n",
       " '2016-02-11',\n",
       " '2016-02-12',\n",
       " '2016-02-16',\n",
       " '2016-02-17',\n",
       " '2016-02-18',\n",
       " '2016-02-19',\n",
       " '2016-02-19',\n",
       " '2016-02-19',\n",
       " '2016-02-19',\n",
       " '2016-02-19',\n",
       " '2016-02-20',\n",
       " '2016-02-20',\n",
       " '2016-02-20',\n",
       " '2016-02-21',\n",
       " '2016-02-21',\n",
       " '2016-02-23',\n",
       " '2016-02-24',\n",
       " '2016-02-25',\n",
       " '2016-02-25',\n",
       " '2016-02-27',\n",
       " '2016-02-29',\n",
       " '2016-02-29',\n",
       " '2016-03-01',\n",
       " '2016-03-01',\n",
       " '2016-03-01',\n",
       " '2016-03-02',\n",
       " '2016-03-04',\n",
       " '2016-03-04',\n",
       " '2016-03-04',\n",
       " '2016-03-05',\n",
       " '2016-03-05',\n",
       " '2016-03-06',\n",
       " '2016-03-07',\n",
       " '2016-03-08',\n",
       " '2016-03-08',\n",
       " '2016-03-09',\n",
       " '2016-03-09',\n",
       " '2016-03-10',\n",
       " '2016-03-10',\n",
       " '2016-03-10',\n",
       " '2016-03-11',\n",
       " '2016-03-11',\n",
       " '2016-03-12',\n",
       " '2016-03-12',\n",
       " '2016-03-12',\n",
       " '2016-03-13',\n",
       " '2016-03-14',\n",
       " '2016-03-14',\n",
       " '2016-03-15',\n",
       " '2016-03-15',\n",
       " '2016-03-16',\n",
       " '2016-03-17',\n",
       " '2016-03-17',\n",
       " '2016-03-17',\n",
       " '2016-03-18',\n",
       " '2016-03-18',\n",
       " '2016-03-19',\n",
       " '2016-03-19',\n",
       " '2016-03-20',\n",
       " '2016-03-20',\n",
       " '2016-03-21',\n",
       " '2016-03-21',\n",
       " '2016-03-21',\n",
       " '2016-03-22',\n",
       " '2016-03-22',\n",
       " '2016-03-24',\n",
       " '2016-03-24',\n",
       " '2016-03-24',\n",
       " '2016-03-24',\n",
       " '2016-03-24',\n",
       " '2016-03-24',\n",
       " '2016-03-25',\n",
       " '2016-03-26',\n",
       " '2016-03-26',\n",
       " '2016-03-26',\n",
       " '2016-03-26',\n",
       " '2016-03-26',\n",
       " '2016-03-27',\n",
       " '2016-03-28',\n",
       " '2016-03-29',\n",
       " '2016-03-30',\n",
       " '2016-03-30',\n",
       " '2016-03-30',\n",
       " '2016-03-31',\n",
       " '2016-03-31',\n",
       " '2016-04-01',\n",
       " '2016-04-01',\n",
       " '2016-04-02',\n",
       " '2016-04-03',\n",
       " '2016-04-04',\n",
       " '2016-04-04',\n",
       " '2016-04-04',\n",
       " '2016-04-04',\n",
       " '2016-04-05',\n",
       " '2016-04-06',\n",
       " '2016-04-06',\n",
       " '2016-04-06',\n",
       " '2016-04-06',\n",
       " '2016-04-07',\n",
       " '2016-04-07',\n",
       " '2016-04-07',\n",
       " '2016-04-08',\n",
       " '2016-04-08',\n",
       " '2016-04-08',\n",
       " '2016-04-08',\n",
       " '2016-04-09',\n",
       " '2016-04-09',\n",
       " '2016-04-10',\n",
       " '2016-04-11',\n",
       " '2016-04-11',\n",
       " '2016-04-11',\n",
       " '2016-04-12',\n",
       " '2016-04-13',\n",
       " '2016-04-13',\n",
       " '2016-04-14',\n",
       " '2016-04-15',\n",
       " '2016-04-15',\n",
       " '2016-04-15',\n",
       " '2016-04-16',\n",
       " '2016-04-16',\n",
       " '2016-04-17',\n",
       " '2016-04-17',\n",
       " '2016-04-18',\n",
       " '2016-04-18',\n",
       " '2016-04-18',\n",
       " '2016-04-19',\n",
       " '2016-04-19',\n",
       " '2016-04-20',\n",
       " '2016-04-21',\n",
       " '2016-04-21',\n",
       " '2016-04-21',\n",
       " '2016-04-22',\n",
       " '2016-04-22',\n",
       " '2016-04-25',\n",
       " '2016-04-25',\n",
       " '2016-04-25',\n",
       " '2016-04-25',\n",
       " '2016-04-26',\n",
       " '2016-04-26',\n",
       " '2016-04-27',\n",
       " '2016-04-27',\n",
       " '2016-04-27',\n",
       " '2016-04-29',\n",
       " '2016-04-29',\n",
       " '2016-04-29',\n",
       " '2016-04-29',\n",
       " '2016-04-29',\n",
       " '2016-04-29',\n",
       " '2016-04-30',\n",
       " '2016-04-30',\n",
       " '2016-04-30',\n",
       " '2016-05-01',\n",
       " '2016-05-01',\n",
       " '2016-05-01',\n",
       " '2016-05-02',\n",
       " '2016-05-02',\n",
       " '2016-05-03',\n",
       " '2016-05-03',\n",
       " '2016-05-04',\n",
       " '2016-05-04',\n",
       " '2016-05-04',\n",
       " '2016-05-05',\n",
       " '2016-05-05',\n",
       " '2016-05-07',\n",
       " '2016-05-07',\n",
       " '2016-05-07',\n",
       " '2016-05-08',\n",
       " '2016-05-08',\n",
       " '2016-05-08',\n",
       " '2016-05-08',\n",
       " '2016-05-09',\n",
       " '2016-05-10',\n",
       " '2016-05-11',\n",
       " '2016-05-12',\n",
       " '2016-05-12',\n",
       " '2016-05-12',\n",
       " '2016-05-12',\n",
       " '2016-05-12',\n",
       " '2016-05-13',\n",
       " '2016-05-13',\n",
       " '2016-05-13',\n",
       " '2016-05-13',\n",
       " '2016-05-13',\n",
       " '2016-05-13',\n",
       " '2016-05-13',\n",
       " '2016-05-14',\n",
       " '2016-05-14',\n",
       " '2016-05-14',\n",
       " '2016-05-15',\n",
       " '2016-05-16',\n",
       " '2016-05-16',\n",
       " '2016-05-17',\n",
       " '2016-05-18',\n",
       " '2016-05-18',\n",
       " '2016-05-18',\n",
       " '2016-05-18',\n",
       " '2016-05-19',\n",
       " '2016-05-19',\n",
       " '2016-05-19',\n",
       " '2016-05-20',\n",
       " '2016-05-20',\n",
       " '2016-05-20',\n",
       " '2016-05-21',\n",
       " '2016-05-21',\n",
       " '2016-05-22',\n",
       " '2016-05-23',\n",
       " '2016-05-23',\n",
       " '2016-05-23',\n",
       " '2016-05-23',\n",
       " '2016-05-24',\n",
       " '2016-05-24',\n",
       " '2016-05-24',\n",
       " '2016-05-25',\n",
       " '2016-05-25',\n",
       " '2016-05-26',\n",
       " '2016-05-26',\n",
       " '2016-05-26',\n",
       " '2016-05-26',\n",
       " '2016-05-26',\n",
       " '2016-05-26',\n",
       " '2016-05-26',\n",
       " '2016-05-27',\n",
       " '2016-05-27',\n",
       " '2016-05-28',\n",
       " ...]"
      ]
     },
     "execution_count": 44,
     "metadata": {},
     "output_type": "execute_result"
    }
   ],
   "source": [
    "years = [2015, 2016, 2017, 2018, 2019]\n",
    "\n",
    "data_year = data_a['발생일'].values.tolist()\n",
    "data_year"
   ]
  },
  {
   "cell_type": "code",
   "execution_count": 62,
   "id": "90cb05c3",
   "metadata": {},
   "outputs": [
    {
     "data": {
      "text/plain": [
       "[734, 652, 612, 558, 632]"
      ]
     },
     "execution_count": 62,
     "metadata": {},
     "output_type": "execute_result"
    }
   ],
   "source": [
    "year_total = []\n",
    "y2015 = 0\n",
    "y2016 = 0\n",
    "y2017 = 0\n",
    "y2018 = 0\n",
    "y2019 = 0\n",
    "for i in data_year:\n",
    "    year = i[0:4]\n",
    "    if year == '2015':\n",
    "        y2015 += 1\n",
    "    elif year == '2016':\n",
    "        y2016 += 1\n",
    "    elif year == '2017':\n",
    "        y2017 += 1\n",
    "    elif year == '2018':\n",
    "        y2018 += 1\n",
    "    else:\n",
    "        y2019 += 1\n",
    "# print(y2015, y2016, y2017, y2018, y2019)\n",
    "\n",
    "year_total.append(y2015)\n",
    "year_total.append(y2016)\n",
    "year_total.append(y2017)\n",
    "year_total.append(y2018)\n",
    "year_total.append(y2019)\n",
    "year_total"
   ]
  },
  {
   "cell_type": "code",
   "execution_count": 69,
   "id": "ddf2d4f2",
   "metadata": {},
   "outputs": [
    {
     "data": {
      "text/plain": [
       "[<matplotlib.lines.Line2D at 0x155ae564160>]"
      ]
     },
     "execution_count": 69,
     "metadata": {},
     "output_type": "execute_result"
    },
    {
     "data": {
      "text/plain": [
       "([<matplotlib.axis.XTick at 0x155ae532a60>,\n",
       "  <matplotlib.axis.XTick at 0x155ae532b80>,\n",
       "  <matplotlib.axis.XTick at 0x155ae532640>,\n",
       "  <matplotlib.axis.XTick at 0x155ae564b20>,\n",
       "  <matplotlib.axis.XTick at 0x155ae520be0>],\n",
       " [Text(0, 0, ''),\n",
       "  Text(0, 0, ''),\n",
       "  Text(0, 0, ''),\n",
       "  Text(0, 0, ''),\n",
       "  Text(0, 0, '')])"
      ]
     },
     "execution_count": 69,
     "metadata": {},
     "output_type": "execute_result"
    },
    {
     "data": {
      "text/plain": [
       "Text(0.5, 1.0, '<2015-2019 안전운전 의무 불이행 변화>')"
      ]
     },
     "execution_count": 69,
     "metadata": {},
     "output_type": "execute_result"
    },
    {
     "data": {
      "image/png": "[encoded data removed]",
      "text/plain": [
       "<Figure size 432x288 with 1 Axes>"
      ]
     },
     "metadata": {
      "needs_background": "light"
     },
     "output_type": "display_data"
    }
   ],
   "source": [
    "plt.plot(years, year_total, marker='o', color='orange')\n",
    "plt.xticks([2015,2016,2017,2018,2019])\n",
    "plt.title('<2015-2019 안전운전 의무 불이행 변화>')\n",
    "plt.show()"
   ]
  },
  {
   "cell_type": "code",
   "execution_count": null,
   "id": "9de74db0",
   "metadata": {},
   "outputs": [],
   "source": []
  }
 ],
 "metadata": {
  "kernelspec": {
   "display_name": "Python 3 (ipykernel)",
   "language": "python",
   "name": "python3"
  },
  "language_info": {
   "codemirror_mode": {
    "name": "ipython",
    "version": 3
   },
   "file_extension": ".py",
   "mimetype": "text/x-python",
   "name": "python",
   "nbconvert_exporter": "python",
   "pygments_lexer": "ipython3",
   "version": "3.9.7"
  }
 },
 "nbformat": 4,
 "nbformat_minor": 5
}
