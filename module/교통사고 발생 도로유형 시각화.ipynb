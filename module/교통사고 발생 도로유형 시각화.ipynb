{
 "cells": [
  {
   "cell_type": "code",
   "execution_count": 2,
   "id": "ccbafde7",
   "metadata": {},
   "outputs": [],
   "source": [
    "import numpy as np\n",
    "import pandas as pd\n",
    "import math\n",
    "from scipy.stats import *\n",
    "import scipy as sp\n",
    "import matplotlib.pyplot as plt\n",
    "\n",
    "# Jupyter Notebook의 출력을 소수점 이하 3자리로 제한\n",
    "%precision 3\n",
    "\n",
    "# Dataframe의 출력을 소수점 이하 3자리로 제한\n",
    "pd.set_option('precision', 3)\n",
    "\n",
    "# 여러 변수 출력 코드\n",
    "from IPython.core.interactiveshell import InteractiveShell\n",
    "InteractiveShell.ast_node_interactivity=\"all\""
   ]
  },
  {
   "cell_type": "code",
   "execution_count": 3,
   "id": "533aef03",
   "metadata": {},
   "outputs": [],
   "source": [
    "from matplotlib import font_manager, rc\n",
    "font_path = \"C:\\Windows\\Fonts\\malgun.ttf\"\n",
    "font = font_manager.FontProperties(fname=font_path).get_name()\n",
    "rc('font', family=font)"
   ]
  },
  {
   "cell_type": "code",
   "execution_count": 4,
   "id": "b97af6b5",
   "metadata": {},
   "outputs": [],
   "source": [
    "data1 = pd.read_csv('./data/도로교통공단_어린이 교통사고 현황_20191231.csv', encoding='cp949')\n",
    "data2 = pd.read_csv('./data/도로교통공단_어린이 사망교통사고 정보_20191231.csv', encoding='cp949')"
   ]
  },
  {
   "cell_type": "code",
   "execution_count": 5,
   "id": "ec78469b",
   "metadata": {},
   "outputs": [
    {
     "data": {
      "text/html": [
       "<div>\n",
       "<style scoped>\n",
       "    .dataframe tbody tr th:only-of-type {\n",
       "        vertical-align: middle;\n",
       "    }\n",
       "\n",
       "    .dataframe tbody tr th {\n",
       "        vertical-align: top;\n",
       "    }\n",
       "\n",
       "    .dataframe thead th {\n",
       "        text-align: right;\n",
       "    }\n",
       "</style>\n",
       "<table border=\"1\" class=\"dataframe\">\n",
       "  <thead>\n",
       "    <tr style=\"text-align: right;\">\n",
       "      <th></th>\n",
       "      <th>발생일</th>\n",
       "      <th>발생시간</th>\n",
       "      <th>주야</th>\n",
       "      <th>요일</th>\n",
       "      <th>사망자수</th>\n",
       "      <th>중상자수</th>\n",
       "      <th>경상자수</th>\n",
       "      <th>부상신고자수</th>\n",
       "      <th>발생지_시도</th>\n",
       "      <th>발생지_시군구</th>\n",
       "      <th>사고유형_대분류</th>\n",
       "      <th>사고유형_중분류</th>\n",
       "      <th>사고유형</th>\n",
       "      <th>가해자법규위반</th>\n",
       "      <th>도로형태_대분류</th>\n",
       "      <th>도로형태</th>\n",
       "      <th>가해자_당사자종별</th>\n",
       "      <th>피해자_당사자종별</th>\n",
       "    </tr>\n",
       "  </thead>\n",
       "  <tbody>\n",
       "    <tr>\n",
       "      <th>0</th>\n",
       "      <td>2015-01-01</td>\n",
       "      <td>1</td>\n",
       "      <td>야</td>\n",
       "      <td>목</td>\n",
       "      <td>0</td>\n",
       "      <td>1</td>\n",
       "      <td>0</td>\n",
       "      <td>0</td>\n",
       "      <td>경기</td>\n",
       "      <td>의왕시</td>\n",
       "      <td>차대사람</td>\n",
       "      <td>횡단중</td>\n",
       "      <td>횡단중</td>\n",
       "      <td>신호위반</td>\n",
       "      <td>단일로</td>\n",
       "      <td>횡단보도상</td>\n",
       "      <td>승용차</td>\n",
       "      <td>보행자</td>\n",
       "    </tr>\n",
       "    <tr>\n",
       "      <th>1</th>\n",
       "      <td>2015-01-01</td>\n",
       "      <td>1</td>\n",
       "      <td>야</td>\n",
       "      <td>목</td>\n",
       "      <td>0</td>\n",
       "      <td>0</td>\n",
       "      <td>2</td>\n",
       "      <td>0</td>\n",
       "      <td>경북</td>\n",
       "      <td>구미시</td>\n",
       "      <td>차대차</td>\n",
       "      <td>측면충돌</td>\n",
       "      <td>측면충돌</td>\n",
       "      <td>안전운전 의무 불이행</td>\n",
       "      <td>단일로</td>\n",
       "      <td>기타단일로</td>\n",
       "      <td>승용차</td>\n",
       "      <td>승용차</td>\n",
       "    </tr>\n",
       "    <tr>\n",
       "      <th>2</th>\n",
       "      <td>2015-01-01</td>\n",
       "      <td>2</td>\n",
       "      <td>야</td>\n",
       "      <td>목</td>\n",
       "      <td>0</td>\n",
       "      <td>0</td>\n",
       "      <td>2</td>\n",
       "      <td>0</td>\n",
       "      <td>강원</td>\n",
       "      <td>고성군</td>\n",
       "      <td>차대차</td>\n",
       "      <td>추돌</td>\n",
       "      <td>진행중 추돌</td>\n",
       "      <td>안전운전 의무 불이행</td>\n",
       "      <td>단일로</td>\n",
       "      <td>기타단일로</td>\n",
       "      <td>승합차</td>\n",
       "      <td>승용차</td>\n",
       "    </tr>\n",
       "    <tr>\n",
       "      <th>3</th>\n",
       "      <td>2015-01-01</td>\n",
       "      <td>9</td>\n",
       "      <td>주</td>\n",
       "      <td>목</td>\n",
       "      <td>0</td>\n",
       "      <td>1</td>\n",
       "      <td>0</td>\n",
       "      <td>0</td>\n",
       "      <td>충남</td>\n",
       "      <td>예산군</td>\n",
       "      <td>차대차</td>\n",
       "      <td>기타</td>\n",
       "      <td>기타</td>\n",
       "      <td>안전운전 의무 불이행</td>\n",
       "      <td>교차로</td>\n",
       "      <td>교차로내</td>\n",
       "      <td>승용차</td>\n",
       "      <td>승용차</td>\n",
       "    </tr>\n",
       "    <tr>\n",
       "      <th>4</th>\n",
       "      <td>2015-01-01</td>\n",
       "      <td>9</td>\n",
       "      <td>주</td>\n",
       "      <td>목</td>\n",
       "      <td>0</td>\n",
       "      <td>0</td>\n",
       "      <td>1</td>\n",
       "      <td>0</td>\n",
       "      <td>전남</td>\n",
       "      <td>나주시</td>\n",
       "      <td>차대차</td>\n",
       "      <td>측면충돌</td>\n",
       "      <td>측면충돌</td>\n",
       "      <td>안전운전 의무 불이행</td>\n",
       "      <td>단일로</td>\n",
       "      <td>기타단일로</td>\n",
       "      <td>승용차</td>\n",
       "      <td>승용차</td>\n",
       "    </tr>\n",
       "    <tr>\n",
       "      <th>...</th>\n",
       "      <td>...</td>\n",
       "      <td>...</td>\n",
       "      <td>...</td>\n",
       "      <td>...</td>\n",
       "      <td>...</td>\n",
       "      <td>...</td>\n",
       "      <td>...</td>\n",
       "      <td>...</td>\n",
       "      <td>...</td>\n",
       "      <td>...</td>\n",
       "      <td>...</td>\n",
       "      <td>...</td>\n",
       "      <td>...</td>\n",
       "      <td>...</td>\n",
       "      <td>...</td>\n",
       "      <td>...</td>\n",
       "      <td>...</td>\n",
       "      <td>...</td>\n",
       "    </tr>\n",
       "    <tr>\n",
       "      <th>55473</th>\n",
       "      <td>2019-12-31</td>\n",
       "      <td>19</td>\n",
       "      <td>야</td>\n",
       "      <td>화</td>\n",
       "      <td>0</td>\n",
       "      <td>0</td>\n",
       "      <td>3</td>\n",
       "      <td>0</td>\n",
       "      <td>서울</td>\n",
       "      <td>구로구</td>\n",
       "      <td>차대차</td>\n",
       "      <td>측면충돌</td>\n",
       "      <td>측면충돌</td>\n",
       "      <td>안전거리 미확보</td>\n",
       "      <td>단일로</td>\n",
       "      <td>기타단일로</td>\n",
       "      <td>승용차</td>\n",
       "      <td>승용차</td>\n",
       "    </tr>\n",
       "    <tr>\n",
       "      <th>55474</th>\n",
       "      <td>2019-12-31</td>\n",
       "      <td>20</td>\n",
       "      <td>야</td>\n",
       "      <td>화</td>\n",
       "      <td>0</td>\n",
       "      <td>0</td>\n",
       "      <td>2</td>\n",
       "      <td>0</td>\n",
       "      <td>전남</td>\n",
       "      <td>보성군</td>\n",
       "      <td>차대차</td>\n",
       "      <td>추돌</td>\n",
       "      <td>추돌</td>\n",
       "      <td>안전운전 의무 불이행</td>\n",
       "      <td>단일로</td>\n",
       "      <td>기타단일로</td>\n",
       "      <td>승용차</td>\n",
       "      <td>승용차</td>\n",
       "    </tr>\n",
       "    <tr>\n",
       "      <th>55475</th>\n",
       "      <td>2019-12-31</td>\n",
       "      <td>21</td>\n",
       "      <td>야</td>\n",
       "      <td>화</td>\n",
       "      <td>0</td>\n",
       "      <td>0</td>\n",
       "      <td>2</td>\n",
       "      <td>0</td>\n",
       "      <td>충북</td>\n",
       "      <td>청주시</td>\n",
       "      <td>차대차</td>\n",
       "      <td>기타</td>\n",
       "      <td>기타</td>\n",
       "      <td>안전운전 의무 불이행</td>\n",
       "      <td>단일로</td>\n",
       "      <td>기타단일로</td>\n",
       "      <td>이륜차</td>\n",
       "      <td>승용차</td>\n",
       "    </tr>\n",
       "    <tr>\n",
       "      <th>55476</th>\n",
       "      <td>2019-12-31</td>\n",
       "      <td>22</td>\n",
       "      <td>야</td>\n",
       "      <td>화</td>\n",
       "      <td>0</td>\n",
       "      <td>0</td>\n",
       "      <td>1</td>\n",
       "      <td>0</td>\n",
       "      <td>경기</td>\n",
       "      <td>수원시</td>\n",
       "      <td>차대차</td>\n",
       "      <td>추돌</td>\n",
       "      <td>추돌</td>\n",
       "      <td>안전거리 미확보</td>\n",
       "      <td>단일로</td>\n",
       "      <td>기타단일로</td>\n",
       "      <td>이륜차</td>\n",
       "      <td>승용차</td>\n",
       "    </tr>\n",
       "    <tr>\n",
       "      <th>55477</th>\n",
       "      <td>2019-12-31</td>\n",
       "      <td>22</td>\n",
       "      <td>야</td>\n",
       "      <td>화</td>\n",
       "      <td>0</td>\n",
       "      <td>0</td>\n",
       "      <td>0</td>\n",
       "      <td>1</td>\n",
       "      <td>대전</td>\n",
       "      <td>유성구</td>\n",
       "      <td>차대차</td>\n",
       "      <td>기타</td>\n",
       "      <td>기타</td>\n",
       "      <td>안전운전 의무 불이행</td>\n",
       "      <td>단일로</td>\n",
       "      <td>기타단일로</td>\n",
       "      <td>승용차</td>\n",
       "      <td>승용차</td>\n",
       "    </tr>\n",
       "  </tbody>\n",
       "</table>\n",
       "<p>55478 rows × 18 columns</p>\n",
       "</div>"
      ],
      "text/plain": [
       "              발생일  발생시간 주야 요일  사망자수  중상자수  경상자수  부상신고자수 발생지_시도 발생지_시군구  \\\n",
       "0      2015-01-01     1  야  목     0     1     0       0     경기     의왕시   \n",
       "1      2015-01-01     1  야  목     0     0     2       0     경북     구미시   \n",
       "2      2015-01-01     2  야  목     0     0     2       0     강원     고성군   \n",
       "3      2015-01-01     9  주  목     0     1     0       0     충남     예산군   \n",
       "4      2015-01-01     9  주  목     0     0     1       0     전남     나주시   \n",
       "...           ...   ... .. ..   ...   ...   ...     ...    ...     ...   \n",
       "55473  2019-12-31    19  야  화     0     0     3       0     서울     구로구   \n",
       "55474  2019-12-31    20  야  화     0     0     2       0     전남     보성군   \n",
       "55475  2019-12-31    21  야  화     0     0     2       0     충북     청주시   \n",
       "55476  2019-12-31    22  야  화     0     0     1       0     경기     수원시   \n",
       "55477  2019-12-31    22  야  화     0     0     0       1     대전     유성구   \n",
       "\n",
       "      사고유형_대분류 사고유형_중분류    사고유형      가해자법규위반 도로형태_대분류   도로형태 가해자_당사자종별  \\\n",
       "0         차대사람      횡단중     횡단중         신호위반      단일로  횡단보도상       승용차   \n",
       "1          차대차     측면충돌    측면충돌  안전운전 의무 불이행      단일로  기타단일로       승용차   \n",
       "2          차대차       추돌  진행중 추돌  안전운전 의무 불이행      단일로  기타단일로       승합차   \n",
       "3          차대차       기타      기타  안전운전 의무 불이행      교차로   교차로내       승용차   \n",
       "4          차대차     측면충돌    측면충돌  안전운전 의무 불이행      단일로  기타단일로       승용차   \n",
       "...        ...      ...     ...          ...      ...    ...       ...   \n",
       "55473      차대차     측면충돌    측면충돌     안전거리 미확보      단일로  기타단일로       승용차   \n",
       "55474      차대차       추돌      추돌  안전운전 의무 불이행      단일로  기타단일로       승용차   \n",
       "55475      차대차       기타      기타  안전운전 의무 불이행      단일로  기타단일로       이륜차   \n",
       "55476      차대차       추돌      추돌     안전거리 미확보      단일로  기타단일로       이륜차   \n",
       "55477      차대차       기타      기타  안전운전 의무 불이행      단일로  기타단일로       승용차   \n",
       "\n",
       "      피해자_당사자종별  \n",
       "0           보행자  \n",
       "1           승용차  \n",
       "2           승용차  \n",
       "3           승용차  \n",
       "4           승용차  \n",
       "...         ...  \n",
       "55473       승용차  \n",
       "55474       승용차  \n",
       "55475       승용차  \n",
       "55476       승용차  \n",
       "55477       승용차  \n",
       "\n",
       "[55478 rows x 18 columns]"
      ]
     },
     "execution_count": 5,
     "metadata": {},
     "output_type": "execute_result"
    }
   ],
   "source": [
    "data_a = data1.copy()\n",
    "data_a"
   ]
  },
  {
   "cell_type": "code",
   "execution_count": 6,
   "id": "8a4492fb",
   "metadata": {},
   "outputs": [
    {
     "data": {
      "text/plain": [
       "3188"
      ]
     },
     "execution_count": 6,
     "metadata": {},
     "output_type": "execute_result"
    }
   ],
   "source": [
    "data_a = data_a[data_a['발생지_시도']=='서울']\n",
    "data_a=data_a[data_a['사고유형_대분류']=='차대사람']\n",
    "total = int(data_a['발생일'].count())\n",
    "total"
   ]
  },
  {
   "cell_type": "code",
   "execution_count": 7,
   "id": "94d53a7c",
   "metadata": {},
   "outputs": [],
   "source": [
    "# data_b=data_a[data_a['사고유형']=='횡단중']\n",
    "# data_b['발생일'].count()"
   ]
  },
  {
   "cell_type": "code",
   "execution_count": 8,
   "id": "4dd8b606",
   "metadata": {},
   "outputs": [
    {
     "data": {
      "text/plain": [
       "[263, 22, 191]"
      ]
     },
     "execution_count": 8,
     "metadata": {},
     "output_type": "execute_result"
    }
   ],
   "source": [
    "# 횡단보도\n",
    "road_style=['교차로횡단보도내', '횡단보도부근', '횡단보도상']\n",
    "\n",
    "data_c = data_a.copy()\n",
    "\n",
    "data_crossroads = []\n",
    "for i in road_style:\n",
    "    data_cross=data_c[data_c['도로형태'] == i]\n",
    "    a = data_cross['발생일'].count()\n",
    "    data_crossroads.append(a)\n",
    "data_crossroads"
   ]
  },
  {
   "cell_type": "code",
   "execution_count": 9,
   "id": "2bb7d6a4",
   "metadata": {},
   "outputs": [
    {
     "data": {
      "text/plain": [
       "476"
      ]
     },
     "execution_count": 9,
     "metadata": {},
     "output_type": "execute_result"
    }
   ],
   "source": [
    "crossroads = int(sum(data_crossroads))\n",
    "crossroads"
   ]
  },
  {
   "cell_type": "code",
   "execution_count": 10,
   "id": "cc9eb410",
   "metadata": {},
   "outputs": [
    {
     "data": {
      "text/plain": [
       "3"
      ]
     },
     "execution_count": 10,
     "metadata": {},
     "output_type": "execute_result"
    }
   ],
   "source": [
    "# 고가도로위 사고수\n",
    "data_d = data_a.copy()\n",
    "data_d = data_d[data_d['도로형태'] == '고가도로위']\n",
    "goga=int(data_d['발생일'].count())\n",
    "goga"
   ]
  },
  {
   "cell_type": "code",
   "execution_count": 11,
   "id": "f0030017",
   "metadata": {},
   "outputs": [
    {
     "data": {
      "text/plain": [
       "4"
      ]
     },
     "execution_count": 11,
     "metadata": {},
     "output_type": "execute_result"
    }
   ],
   "source": [
    "# 교량위\n",
    "data_e = data_a.copy()\n",
    "data_e = data_e[data_e['도로형태']=='교량위']\n",
    "bridge = int(data_e['발생일'].count())\n",
    "bridge"
   ]
  },
  {
   "cell_type": "code",
   "execution_count": 12,
   "id": "aac0ff80",
   "metadata": {},
   "outputs": [
    {
     "data": {
      "text/plain": [
       "1685"
      ]
     },
     "execution_count": 12,
     "metadata": {},
     "output_type": "execute_result"
    }
   ],
   "source": [
    "# 기타단일로\n",
    "data_f = data_a.copy()\n",
    "data_f = data_f[data_f['도로형태']=='기타단일로']\n",
    "singleroad = int(data_f['발생일'].count())\n",
    "singleroad"
   ]
  },
  {
   "cell_type": "code",
   "execution_count": 13,
   "id": "41b7616e",
   "metadata": {},
   "outputs": [
    {
     "data": {
      "text/plain": [
       "9"
      ]
     },
     "execution_count": 13,
     "metadata": {},
     "output_type": "execute_result"
    }
   ],
   "source": [
    "# 지하차도(도로)내\n",
    "data_g = data_a.copy()\n",
    "data_g = data_g[data_g['도로형태']=='지하차도(도로)내']\n",
    "underpass = int(data_g['발생일'].count())\n",
    "underpass"
   ]
  },
  {
   "cell_type": "code",
   "execution_count": 14,
   "id": "10d42b04",
   "metadata": {},
   "outputs": [
    {
     "data": {
      "text/plain": [
       "821"
      ]
     },
     "execution_count": 14,
     "metadata": {},
     "output_type": "execute_result"
    }
   ],
   "source": [
    "# 교차로내, 교차로부근 묶기 : intersection\n",
    "data_h = data_a.copy()\n",
    "inter_list=['교차로내', '교차로부근']\n",
    "intersection = []\n",
    "for inter in inter_list:\n",
    "    data_inters=data_h[data_h['도로형태'] == inter]\n",
    "    intersection.append(data_inters['발생일'].count())\n",
    "intersections = int(sum(intersection))\n",
    "intersections"
   ]
  },
  {
   "cell_type": "code",
   "execution_count": 15,
   "id": "ce85414b",
   "metadata": {},
   "outputs": [
    {
     "data": {
      "text/plain": [
       "190"
      ]
     },
     "execution_count": 15,
     "metadata": {},
     "output_type": "execute_result"
    }
   ],
   "source": [
    "# 기타, 기타/불명, 불명 묶어서 건수 나타내기 : etcs\n",
    "data_i = data_a.copy()\n",
    "etc_list=['기타', '기타/불명', '불명']\n",
    "etcroad = []\n",
    "for etc in etc_list:\n",
    "    data_etcs=data_i[data_i['도로형태'] == etc]\n",
    "    etcroad.append(data_etcs['발생일'].count())\n",
    "etcroads = int(sum(etcroad))\n",
    "etcroads"
   ]
  },
  {
   "cell_type": "code",
   "execution_count": 16,
   "id": "82b4041e",
   "metadata": {},
   "outputs": [
    {
     "data": {
      "text/plain": [
       "<Figure size 360x360 with 0 Axes>"
      ]
     },
     "execution_count": 16,
     "metadata": {},
     "output_type": "execute_result"
    },
    {
     "data": {
      "text/plain": [
       "([<matplotlib.patches.Wedge at 0x155acf19910>,\n",
       "  <matplotlib.patches.Wedge at 0x155ad0a10d0>,\n",
       "  <matplotlib.patches.Wedge at 0x155ad0a17f0>,\n",
       "  <matplotlib.patches.Wedge at 0x155ad0a1f10>,\n",
       "  <matplotlib.patches.Wedge at 0x155ad0ad670>,\n",
       "  <matplotlib.patches.Wedge at 0x155ad0add90>,\n",
       "  <matplotlib.patches.Wedge at 0x155ad0bc4f0>],\n",
       " [Text(1.0703863929681896, 0.542469326090009, '횡단보도'),\n",
       "  Text(0.6477908775611465, 0.8890258595499683, '고가도로'),\n",
       "  Text(0.6416429231745718, 0.893473200012172, '교량'),\n",
       "  Text(-0.9495418363609588, 0.555310994849065, '기타단일로'),\n",
       "  Text(-0.45919628434267157, -0.9995692934688843, '지하차도(도로)'),\n",
       "  Text(0.4154376204620137, -1.0185340364979758, '교차로'),\n",
       "  Text(1.0807751392618596, -0.20475619246681645, '기타')],\n",
       " [Text(0.6243920625647772, 0.31644044021917184, '14.9%'),\n",
       "  Text(0.35334047866971624, 0.4849231961181645, '0.1%'),\n",
       "  Text(0.3499870490043119, 0.4873490181884574, '0.1%'),\n",
       "  Text(-0.5179319107423411, 0.3028969062813081, '52.9%'),\n",
       "  Text(-0.2504707005505481, -0.5452196146193914, '0.3%'),\n",
       "  Text(0.22660233843382563, -0.5555640199079868, '25.8%'),\n",
       "  Text(0.5895137123246507, -0.11168519589099078, '6.0%')])"
      ]
     },
     "execution_count": 16,
     "metadata": {},
     "output_type": "execute_result"
    },
    {
     "data": {
      "image/png": "[encoded data removed]",
      "text/plain": [
       "<Figure size 360x360 with 1 Axes>"
      ]
     },
     "metadata": {},
     "output_type": "display_data"
    }
   ],
   "source": [
    "result = [crossroads, goga, bridge, singleroad, underpass, intersections, etcroads]\n",
    "roadType = '횡단보도', '고가도로', '교량', '기타단일로', '지하차도(도로)', '교차로', '기타'\n",
    "colors = ['gold', '#ffc000', '#8fd9b6', '#d395d0', 'silver', '#ff9999', 'lightgray']\n",
    "explode = [0.1, 0, 0, 0, 0, 0, 0]\n",
    "plt.figure(figsize=(5,5))\n",
    "plt.pie(result,labels=roadType, autopct='%.1f%%', colors=colors, explode=explode)\n",
    "plt.show()"
   ]
  },
  {
   "cell_type": "code",
   "execution_count": 17,
   "id": "63c773b9",
   "metadata": {},
   "outputs": [
    {
     "data": {
      "text/plain": [
       "<Figure size 360x360 with 0 Axes>"
      ]
     },
     "execution_count": 17,
     "metadata": {},
     "output_type": "execute_result"
    },
    {
     "data": {
      "text/plain": [
       "([<matplotlib.patches.Wedge at 0x155ae44d580>,\n",
       "  <matplotlib.patches.Wedge at 0x155ae44df70>,\n",
       "  <matplotlib.patches.Wedge at 0x155ae45a970>,\n",
       "  <matplotlib.patches.Wedge at 0x155ae468340>,\n",
       "  <matplotlib.patches.Wedge at 0x155ae468cd0>,\n",
       "  <matplotlib.patches.Wedge at 0x155ae4756a0>],\n",
       " [Text(0.6534616943450918, 1.0064729574229214, '횡단보도'),\n",
       "  Text(-0.4539122135573937, 1.0019798912071176, '고가도로'),\n",
       "  Text(-0.46852357560938135, 0.9952314600625326, '교량'),\n",
       "  Text(-0.4953905054170982, 0.9821345361724085, '지하차도(도로)'),\n",
       "  Text(-0.8880228624705616, -0.6491651528922283, '교차로'),\n",
       "  Text(1.0143877292701404, -0.4254615549096869, '기타')],\n",
       " [Text(0.38118598836797024, 0.5871092251633708, '31.7%'),\n",
       "  Text(-0.2475884801222147, 0.5465344861129732, '0.2%'),\n",
       "  Text(-0.25555831396875345, 0.5428535236704722, '0.3%'),\n",
       "  Text(-0.2702130029547808, 0.5357097470031319, '0.6%'),\n",
       "  Text(-0.48437610680212445, -0.35409008339576087, '54.6%'),\n",
       "  Text(0.5533023977837129, -0.23206993904164738, '12.6%')])"
      ]
     },
     "execution_count": 17,
     "metadata": {},
     "output_type": "execute_result"
    },
    {
     "data": {
      "image/png": "[encoded data removed]",
      "text/plain": [
       "<Figure size 360x360 with 1 Axes>"
      ]
     },
     "metadata": {},
     "output_type": "display_data"
    }
   ],
   "source": [
    "result = [crossroads, goga, bridge, underpass, intersections, etcroads]\n",
    "roadType = '횡단보도', '고가도로', '교량', '지하차도(도로)', '교차로', '기타'\n",
    "colors = ['gold', '#ffc000', '#8fd9b6', 'silver', '#ff9999', 'lightgray']\n",
    "explode = [0.1, 0, 0, 0, 0, 0]\n",
    "plt.figure(figsize=(5,5))\n",
    "plt.pie(result,labels=roadType, autopct='%.1f%%', colors=colors, explode=explode, shadow=True)\n",
    "plt.show()"
   ]
  }
 ],
 "metadata": {
  "kernelspec": {
   "display_name": "Python 3 (ipykernel)",
   "language": "python",
   "name": "python3"
  },
  "language_info": {
   "codemirror_mode": {
    "name": "ipython",
    "version": 3
   },
   "file_extension": ".py",
   "mimetype": "text/x-python",
   "name": "python",
   "nbconvert_exporter": "python",
   "pygments_lexer": "ipython3",
   "version": "3.9.7"
  }
 },
 "nbformat": 4,
 "nbformat_minor": 5
}
